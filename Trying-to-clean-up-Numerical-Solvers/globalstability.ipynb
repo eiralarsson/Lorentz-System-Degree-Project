{
 "cells": [
  {
   "cell_type": "code",
   "execution_count": 1,
   "metadata": {},
   "outputs": [],
   "source": [
    "using DifferentialEquations\n",
    "using LinearAlgebra\n",
    "using Plots\n",
    "using FileIO, JLD2\n",
    "using LaTeXStrings"
   ]
  },
  {
   "cell_type": "code",
   "execution_count": 21,
   "metadata": {},
   "outputs": [
    {
     "data": {
      "text/plain": [
       "points_on_sphere (generic function with 2 methods)"
      ]
     },
     "metadata": {},
     "output_type": "display_data"
    }
   ],
   "source": [
    "include(\"Solvers.jl\")\n",
    "include(\"PlotFunctions.jl\")\n",
    "include(\"UsefulFunctions.jl\")\n",
    "include(\"PointGenerators.jl\")"
   ]
  },
  {
   "cell_type": "code",
   "execution_count": 6,
   "metadata": {},
   "outputs": [],
   "source": [
    "function ratio_converged_solutions(solutionmatrix, rlim)\n",
    "    r,c = size(solutionmatrix)\n",
    "    num_sols = Int(r/3)\n",
    "    converged = 0\n",
    "    for i = 1:num_sols\n",
    "        x = solutionmatrix[3*(i-1)+1:3*i,end]\n",
    "        if sum(x.^2)^0.5 <= rlim\n",
    "            converged += 1\n",
    "        end\n",
    "    end\n",
    "    return converged/num_sols\n",
    "end\n",
    "\n",
    "function globstab(r,n)\n",
    "    init_points = points_on_sphere(n, r)\n",
    "    str = \"\"\n",
    "    for solver = solvers\n",
    "        M = points_solutions_matrix(p,Δt,N::Int64,init_points,solver)\n",
    "        ratio = ratio_converged_solutions(M,r)\n",
    "        str = string(str,solver, \": \", ratio, \" || \")\n",
    "    end\n",
    "    display(str)\n",
    "end\n",
    ";"
   ]
  },
  {
   "cell_type": "code",
   "execution_count": 23,
   "metadata": {},
   "outputs": [],
   "source": [
    "Δt = 0.001\n",
    "T = 50\n",
    "N = Integer(T/Δt)\n",
    "θ, μ, β = 10, 1/2, 8/3\n",
    "p = [θ, μ, β]\n",
    "solvers = [EulerForward RK4 DTM Rodas5 RadauIIA5]\n",
    ";"
   ]
  },
  {
   "cell_type": "code",
   "execution_count": 25,
   "metadata": {},
   "outputs": [
    {
     "data": {
      "text/plain": [
       "\"r = 100.0\""
      ]
     },
     "metadata": {},
     "output_type": "display_data"
    },
    {
     "data": {
      "text/plain": [
       "\"EulerForward: 1.0 || RK4: 1.0 || DTM: 1.0 || Rodas5: 1.0 || RadauIIA5: 1.0 || \""
      ]
     },
     "metadata": {},
     "output_type": "display_data"
    },
    {
     "data": {
      "text/plain": [
       "\"r = 1000.0\""
      ]
     },
     "metadata": {},
     "output_type": "display_data"
    },
    {
     "data": {
      "text/plain": [
       "\"EulerForward: 0.015 || RK4: 1.0 || DTM: 1.0 || Rodas5: 1.0 || RadauIIA5: 1.0 || \""
      ]
     },
     "metadata": {},
     "output_type": "display_data"
    },
    {
     "data": {
      "text/plain": [
       "\"r = 10000.0\""
      ]
     },
     "metadata": {},
     "output_type": "display_data"
    },
    {
     "name": "stderr",
     "output_type": "stream",
     "text": [
      "┌ Warning: Newton steps could not converge and algorithm is not adaptive. Use a lower dt.\n",
      "└ @ SciMLBase C:\\Users\\Vilmer\\.julia\\packages\\SciMLBase\\QqtZA\\src\\integrator_interface.jl:531\n",
      "┌ Warning: Newton steps could not converge and algorithm is not adaptive. Use a lower dt.\n",
      "└ @ SciMLBase C:\\Users\\Vilmer\\.julia\\packages\\SciMLBase\\QqtZA\\src\\integrator_interface.jl:531\n"
     ]
    },
    {
     "name": "stderr",
     "output_type": "stream",
     "text": [
      "┌ Warning: Newton steps could not converge and algorithm is not adaptive. Use a lower dt.\n",
      "└ @ SciMLBase C:\\Users\\Vilmer\\.julia\\packages\\SciMLBase\\QqtZA\\src\\integrator_interface.jl:531\n",
      "┌ Warning: Newton steps could not converge and algorithm is not adaptive. Use a lower dt.\n",
      "└ @ SciMLBase C:\\Users\\Vilmer\\.julia\\packages\\SciMLBase\\QqtZA\\src\\integrator_interface.jl:531\n"
     ]
    },
    {
     "name": "stderr",
     "output_type": "stream",
     "text": [
      "┌ Warning: Newton steps could not converge and algorithm is not adaptive. Use a lower dt.\n",
      "└ @ SciMLBase C:\\Users\\Vilmer\\.julia\\packages\\SciMLBase\\QqtZA\\src\\integrator_interface.jl:531\n"
     ]
    },
    {
     "name": "stderr",
     "output_type": "stream",
     "text": [
      "┌ Warning: Newton steps could not converge and algorithm is not adaptive. Use a lower dt.\n",
      "└ @ SciMLBase C:\\Users\\Vilmer\\.julia\\packages\\SciMLBase\\QqtZA\\src\\integrator_interface.jl:531\n",
      "┌ Warning: Newton steps could not converge and algorithm is not adaptive. Use a lower dt.\n",
      "└ @ SciMLBase C:\\Users\\Vilmer\\.julia\\packages\\SciMLBase\\QqtZA\\src\\integrator_interface.jl:531\n"
     ]
    },
    {
     "name": "stderr",
     "output_type": "stream",
     "text": [
      "┌ Warning: Newton steps could not converge and algorithm is not adaptive. Use a lower dt.\n",
      "└ @ SciMLBase C:\\Users\\Vilmer\\.julia\\packages\\SciMLBase\\QqtZA\\src\\integrator_interface.jl:531\n",
      "┌ Warning: Newton steps could not converge and algorithm is not adaptive. Use a lower dt.\n",
      "└ @ SciMLBase C:\\Users\\Vilmer\\.julia\\packages\\SciMLBase\\QqtZA\\src\\integrator_interface.jl:531\n"
     ]
    },
    {
     "name": "stderr",
     "output_type": "stream",
     "text": [
      "┌ Warning: Newton steps could not converge and algorithm is not adaptive. Use a lower dt.\n",
      "└ @ SciMLBase C:\\Users\\Vilmer\\.julia\\packages\\SciMLBase\\QqtZA\\src\\integrator_interface.jl:531\n"
     ]
    },
    {
     "name": "stderr",
     "output_type": "stream",
     "text": [
      "┌ Warning: Newton steps could not converge and algorithm is not adaptive. Use a lower dt.\n",
      "└ @ SciMLBase C:\\Users\\Vilmer\\.julia\\packages\\SciMLBase\\QqtZA\\src\\integrator_interface.jl:531\n",
      "┌ Warning: Newton steps could not converge and algorithm is not adaptive. Use a lower dt.\n",
      "└ @ SciMLBase C:\\Users\\Vilmer\\.julia\\packages\\SciMLBase\\QqtZA\\src\\integrator_interface.jl:531\n"
     ]
    },
    {
     "name": "stderr",
     "output_type": "stream",
     "text": [
      "┌ Warning: Newton steps could not converge and algorithm is not adaptive. Use a lower dt.\n",
      "└ @ SciMLBase C:\\Users\\Vilmer\\.julia\\packages\\SciMLBase\\QqtZA\\src\\integrator_interface.jl:531\n"
     ]
    },
    {
     "name": "stderr",
     "output_type": "stream",
     "text": [
      "┌ Warning: Newton steps could not converge and algorithm is not adaptive. Use a lower dt.\n",
      "└ @ SciMLBase C:\\Users\\Vilmer\\.julia\\packages\\SciMLBase\\QqtZA\\src\\integrator_interface.jl:531\n"
     ]
    },
    {
     "name": "stderr",
     "output_type": "stream",
     "text": [
      "┌ Warning: Newton steps could not converge and algorithm is not adaptive. Use a lower dt.\n",
      "└ @ SciMLBase C:\\Users\\Vilmer\\.julia\\packages\\SciMLBase\\QqtZA\\src\\integrator_interface.jl:531\n"
     ]
    },
    {
     "data": {
      "text/plain": [
       "\"EulerForward: 0.0 || RK4: 0.26 || DTM: 0.19 || Rodas5: 1.0 || RadauIIA5: 0.92 || \""
      ]
     },
     "metadata": {},
     "output_type": "display_data"
    },
    {
     "data": {
      "text/plain": [
       "\"r = 100000.0\""
      ]
     },
     "metadata": {},
     "output_type": "display_data"
    },
    {
     "name": "stderr",
     "output_type": "stream",
     "text": [
      "┌ Warning: Newton steps could not converge and algorithm is not adaptive. Use a lower dt.\n",
      "└ @ SciMLBase C:\\Users\\Vilmer\\.julia\\packages\\SciMLBase\\QqtZA\\src\\integrator_interface.jl:531\n"
     ]
    },
    {
     "name": "stderr",
     "output_type": "stream",
     "text": [
      "┌ Warning: Newton steps could not converge and algorithm is not adaptive. Use a lower dt.\n",
      "└ @ SciMLBase C:\\Users\\Vilmer\\.julia\\packages\\SciMLBase\\QqtZA\\src\\integrator_interface.jl:531\n"
     ]
    },
    {
     "name": "stderr",
     "output_type": "stream",
     "text": [
      "┌ Warning: Newton steps could not converge and algorithm is not adaptive. Use a lower dt.\n",
      "└ @ SciMLBase C:\\Users\\Vilmer\\.julia\\packages\\SciMLBase\\QqtZA\\src\\integrator_interface.jl:531\n"
     ]
    },
    {
     "name": "stderr",
     "output_type": "stream",
     "text": [
      "┌ Warning: Newton steps could not converge and algorithm is not adaptive. Use a lower dt.\n",
      "└ @ SciMLBase C:\\Users\\Vilmer\\.julia\\packages\\SciMLBase\\QqtZA\\src\\integrator_interface.jl:531\n"
     ]
    },
    {
     "name": "stderr",
     "output_type": "stream",
     "text": [
      "┌ Warning: Newton steps could not converge and algorithm is not adaptive. Use a lower dt.\n",
      "└ @ SciMLBase C:\\Users\\Vilmer\\.julia\\packages\\SciMLBase\\QqtZA\\src\\integrator_interface.jl:531\n"
     ]
    },
    {
     "name": "stderr",
     "output_type": "stream",
     "text": [
      "┌ Warning: Newton steps could not converge and algorithm is not adaptive. Use a lower dt.\n",
      "└ @ SciMLBase C:\\Users\\Vilmer\\.julia\\packages\\SciMLBase\\QqtZA\\src\\integrator_interface.jl:531\n"
     ]
    },
    {
     "name": "stderr",
     "output_type": "stream",
     "text": [
      "┌ Warning: Newton steps could not converge and algorithm is not adaptive. Use a lower dt.\n",
      "└ @ SciMLBase C:\\Users\\Vilmer\\.julia\\packages\\SciMLBase\\QqtZA\\src\\integrator_interface.jl:531\n"
     ]
    },
    {
     "name": "stderr",
     "output_type": "stream",
     "text": [
      "┌ Warning: Newton steps could not converge and algorithm is not adaptive. Use a lower dt.\n",
      "└ @ SciMLBase C:\\Users\\Vilmer\\.julia\\packages\\SciMLBase\\QqtZA\\src\\integrator_interface.jl:531\n"
     ]
    },
    {
     "name": "stderr",
     "output_type": "stream",
     "text": [
      "┌ Warning: Newton steps could not converge and algorithm is not adaptive. Use a lower dt.\n",
      "└ @ SciMLBase C:\\Users\\Vilmer\\.julia\\packages\\SciMLBase\\QqtZA\\src\\integrator_interface.jl:531\n"
     ]
    },
    {
     "name": "stderr",
     "output_type": "stream",
     "text": [
      "┌ Warning: Newton steps could not converge and algorithm is not adaptive. Use a lower dt.\n",
      "└ @ SciMLBase C:\\Users\\Vilmer\\.julia\\packages\\SciMLBase\\QqtZA\\src\\integrator_interface.jl:531\n"
     ]
    },
    {
     "name": "stderr",
     "output_type": "stream",
     "text": [
      "┌ Warning: Newton steps could not converge and algorithm is not adaptive. Use a lower dt.\n",
      "└ @ SciMLBase C:\\Users\\Vilmer\\.julia\\packages\\SciMLBase\\QqtZA\\src\\integrator_interface.jl:531\n"
     ]
    },
    {
     "name": "stderr",
     "output_type": "stream",
     "text": [
      "┌ Warning: Newton steps could not converge and algorithm is not adaptive. Use a lower dt.\n",
      "└ @ SciMLBase C:\\Users\\Vilmer\\.julia\\packages\\SciMLBase\\QqtZA\\src\\integrator_interface.jl:531\n"
     ]
    },
    {
     "data": {
      "text/plain": [
       "\"EulerForward: 0.0 || RK4: 0.02 || DTM: 0.01 || Rodas5: 0.995 || RadauIIA5: 0.94 || \""
      ]
     },
     "metadata": {},
     "output_type": "display_data"
    },
    {
     "data": {
      "text/plain": [
       "\"r = 1.0e6\""
      ]
     },
     "metadata": {},
     "output_type": "display_data"
    },
    {
     "name": "stderr",
     "output_type": "stream",
     "text": [
      "┌ Warning: Newton steps could not converge and algorithm is not adaptive. Use a lower dt.\n",
      "└ @ SciMLBase C:\\Users\\Vilmer\\.julia\\packages\\SciMLBase\\QqtZA\\src\\integrator_interface.jl:531\n"
     ]
    },
    {
     "name": "stderr",
     "output_type": "stream",
     "text": [
      "┌ Warning: Newton steps could not converge and algorithm is not adaptive. Use a lower dt.\n",
      "└ @ SciMLBase C:\\Users\\Vilmer\\.julia\\packages\\SciMLBase\\QqtZA\\src\\integrator_interface.jl:531\n"
     ]
    },
    {
     "name": "stderr",
     "output_type": "stream",
     "text": [
      "┌ Warning: Newton steps could not converge and algorithm is not adaptive. Use a lower dt.\n",
      "└ @ SciMLBase C:\\Users\\Vilmer\\.julia\\packages\\SciMLBase\\QqtZA\\src\\integrator_interface.jl:531\n"
     ]
    },
    {
     "name": "stderr",
     "output_type": "stream",
     "text": [
      "┌ Warning: Newton steps could not converge and algorithm is not adaptive. Use a lower dt.\n",
      "└ @ SciMLBase C:\\Users\\Vilmer\\.julia\\packages\\SciMLBase\\QqtZA\\src\\integrator_interface.jl:531\n"
     ]
    },
    {
     "name": "stderr",
     "output_type": "stream",
     "text": [
      "┌ Warning: Newton steps could not converge and algorithm is not adaptive. Use a lower dt.\n",
      "└ @ SciMLBase C:\\Users\\Vilmer\\.julia\\packages\\SciMLBase\\QqtZA\\src\\integrator_interface.jl:531\n"
     ]
    },
    {
     "name": "stderr",
     "output_type": "stream",
     "text": [
      "┌ Warning: Newton steps could not converge and algorithm is not adaptive. Use a lower dt.\n",
      "└ @ SciMLBase C:\\Users\\Vilmer\\.julia\\packages\\SciMLBase\\QqtZA\\src\\integrator_interface.jl:531\n"
     ]
    },
    {
     "name": "stderr",
     "output_type": "stream",
     "text": [
      "┌ Warning: Newton steps could not converge and algorithm is not adaptive. Use a lower dt.\n",
      "└ @ SciMLBase C:\\Users\\Vilmer\\.julia\\packages\\SciMLBase\\QqtZA\\src\\integrator_interface.jl:531\n"
     ]
    },
    {
     "data": {
      "text/plain": [
       "\"EulerForward: 0.0 || RK4: 0.0 || DTM: 0.0 || Rodas5: 1.0 || RadauIIA5: 0.965 || \""
      ]
     },
     "metadata": {},
     "output_type": "display_data"
    },
    {
     "data": {
      "text/plain": [
       "\"r = 1.0e7\""
      ]
     },
     "metadata": {},
     "output_type": "display_data"
    },
    {
     "name": "stderr",
     "output_type": "stream",
     "text": [
      "┌ Warning: Newton steps could not converge and algorithm is not adaptive. Use a lower dt.\n",
      "└ @ SciMLBase C:\\Users\\Vilmer\\.julia\\packages\\SciMLBase\\QqtZA\\src\\integrator_interface.jl:531\n"
     ]
    },
    {
     "name": "stderr",
     "output_type": "stream",
     "text": [
      "┌ Warning: Instability detected. Aborting\n",
      "└ @ SciMLBase C:\\Users\\Vilmer\\.julia\\packages\\SciMLBase\\QqtZA\\src\\integrator_interface.jl:525\n"
     ]
    },
    {
     "data": {
      "text/plain": [
       "\"EulerForward: 0.0 || RK4: 0.0 || DTM: 0.0 || Rodas5: 0.995 || RadauIIA5: 0.995 || \""
      ]
     },
     "metadata": {},
     "output_type": "display_data"
    },
    {
     "data": {
      "text/plain": [
       "\"r = 1.0e8\""
      ]
     },
     "metadata": {},
     "output_type": "display_data"
    },
    {
     "name": "stderr",
     "output_type": "stream",
     "text": [
      "┌ Warning: Newton steps could not converge and algorithm is not adaptive. Use a lower dt.\n",
      "└ @ SciMLBase C:\\Users\\Vilmer\\.julia\\packages\\SciMLBase\\QqtZA\\src\\integrator_interface.jl:531\n"
     ]
    },
    {
     "data": {
      "text/plain": [
       "\"EulerForward: 0.0 || RK4: 0.0 || DTM: 0.0 || Rodas5: 1.0 || RadauIIA5: 0.995 || \""
      ]
     },
     "metadata": {},
     "output_type": "display_data"
    },
    {
     "name": "stderr",
     "output_type": "stream",
     "text": [
      "┌ Warning: Newton steps could not converge and algorithm is not adaptive. Use a lower dt.\n",
      "└ @ SciMLBase C:\\Users\\Vilmer\\.julia\\packages\\SciMLBase\\QqtZA\\src\\integrator_interface.jl:531\n"
     ]
    }
   ],
   "source": [
    "rvec = [1e2 1e3 1e4 1e5 1e6 1e7 1e8]\n",
    "n = 200\n",
    "for r = rvec\n",
    "    display(string(\"r = \",r))\n",
    "    globstab(r,n)\n",
    "end"
   ]
  }
 ],
 "metadata": {
  "kernelspec": {
   "display_name": "Julia 1.8.5",
   "language": "julia",
   "name": "julia-1.8"
  },
  "language_info": {
   "file_extension": ".jl",
   "mimetype": "application/julia",
   "name": "julia",
   "version": "1.8.5"
  },
  "orig_nbformat": 4
 },
 "nbformat": 4,
 "nbformat_minor": 2
}
