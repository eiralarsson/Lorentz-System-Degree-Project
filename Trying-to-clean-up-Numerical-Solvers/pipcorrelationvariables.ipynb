{
 "cells": [
  {
   "cell_type": "code",
   "execution_count": 2,
   "metadata": {},
   "outputs": [],
   "source": [
    "using DifferentialEquations\n",
    "using LinearAlgebra\n",
    "using Plots\n",
    "using FileIO, JLD2"
   ]
  },
  {
   "cell_type": "code",
   "execution_count": 3,
   "metadata": {},
   "outputs": [
    {
     "data": {
      "text/plain": [
       "points_on_sphere (generic function with 2 methods)"
      ]
     },
     "metadata": {},
     "output_type": "display_data"
    }
   ],
   "source": [
    "include(\"Solvers.jl\")\n",
    "include(\"PlotFunctions.jl\")\n",
    "include(\"UsefulFunctions.jl\")\n",
    "include(\"PointGenerators.jl\")"
   ]
  },
  {
   "attachments": {},
   "cell_type": "markdown",
   "metadata": {},
   "source": [
    "Introduces variables and their values"
   ]
  },
  {
   "cell_type": "code",
   "execution_count": 3,
   "metadata": {},
   "outputs": [
    {
     "data": {
      "text/plain": [
       "600"
      ]
     },
     "metadata": {},
     "output_type": "display_data"
    }
   ],
   "source": [
    "θ, μ, β = 10, 28, 8/3\n",
    "p = [θ, μ, β]\n",
    "Δt = 0.1\n",
    "T = 60\n",
    "N = Integer(T/Δt)"
   ]
  },
  {
   "attachments": {},
   "cell_type": "markdown",
   "metadata": {},
   "source": [
    "Creates initial values to use, here with points_in_cuboid function from \"PointGenerators.jl\""
   ]
  },
  {
   "cell_type": "code",
   "execution_count": 4,
   "metadata": {},
   "outputs": [],
   "source": [
    "xint= -50:10:50\n",
    "yint = -50:10:50\n",
    "zint = -30:10:70\n",
    "\n",
    "initial_points = points_in_cuboid(xint, yint, zint);"
   ]
  },
  {
   "attachments": {},
   "cell_type": "markdown",
   "metadata": {},
   "source": [
    "Saves matrices with the solutions for all the initial values created above, for different timesteps and solvers. $\\newline$\n",
    "Since these are created to then be compared at the same points in time we only return the solutions for t = n $\\Delta t$ , n=0,..N. $\\newline$\n",
    "Importantly $\\Delta t$ then have to be a multiple of the timestes we use. We make sure this is the case by $\\newline$\n",
    "using points_solutions_matrix from \"UsefulFunction.jl\" and adjusting the \"steps_per_ $\\Delta t$\" variable."
   ]
  },
  {
   "cell_type": "code",
   "execution_count": 14,
   "metadata": {},
   "outputs": [],
   "source": [
    "solvers = [RK4 EulerCromer EulerForward DTM RadauIIA5 Rodas5]\n",
    "steps_vec = [10 20 40 80 160 320 640]\n",
    "for solver = solvers\n",
    "    for steps = steps_vec\n",
    "        M = points_solutions_matrix(p,Δt,N,initial_points,solver, steps_per_Δt=steps)\n",
    "        str = string(\"variables\", \"\\\\\", \"solutionmatrices\", \"\\\\\",solver, \"\\\\\", steps, \".jld2\")\n",
    "        FileIO.save(str,\"M\",M);\n",
    "    end\n",
    "end"
   ]
  }
 ],
 "metadata": {
  "kernelspec": {
   "display_name": "Julia 1.8.5",
   "language": "julia",
   "name": "julia-1.8"
  },
  "language_info": {
   "file_extension": ".jl",
   "mimetype": "application/julia",
   "name": "julia",
   "version": "1.8.5"
  },
  "orig_nbformat": 4,
  "vscode": {
   "interpreter": {
    "hash": "570feb405e2e27c949193ac68f46852414290d515b0ba6e5d90d076ed2284471"
   }
  }
 },
 "nbformat": 4,
 "nbformat_minor": 2
}
