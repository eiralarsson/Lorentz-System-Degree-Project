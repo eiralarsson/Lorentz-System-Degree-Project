{
 "cells": [
  {
   "cell_type": "code",
   "execution_count": 1,
   "metadata": {},
   "outputs": [],
   "source": [
    "using DifferentialEquations\n",
    "using LinearAlgebra\n",
    "using Plots\n",
    "using FileIO, JLD2"
   ]
  },
  {
   "cell_type": "code",
   "execution_count": 8,
   "metadata": {},
   "outputs": [
    {
     "data": {
      "text/plain": [
       "points_on_sphere (generic function with 2 methods)"
      ]
     },
     "metadata": {},
     "output_type": "display_data"
    }
   ],
   "source": [
    "include(\"solvers.jl\")\n",
    "include(\"plot_functions.jl\")\n",
    "include(\"useful_functions.jl\")\n",
    "include(\"point_generators.jl\")"
   ]
  },
  {
   "cell_type": "code",
   "execution_count": 3,
   "metadata": {},
   "outputs": [
    {
     "data": {
      "text/plain": [
       "600"
      ]
     },
     "metadata": {},
     "output_type": "display_data"
    }
   ],
   "source": [
    "θ, μ, β = 10, 28, 8/3\n",
    "p = [θ, μ, β]\n",
    "Δt = 0.1\n",
    "T = 60\n",
    "N = Integer(T/Δt)"
   ]
  },
  {
   "cell_type": "code",
   "execution_count": 4,
   "metadata": {},
   "outputs": [
    {
     "data": {
      "text/plain": [
       "1331"
      ]
     },
     "metadata": {},
     "output_type": "display_data"
    }
   ],
   "source": [
    "xint= -50:10:50\n",
    "yint = -50:10:50\n",
    "zint = -30:10:70\n",
    "\n",
    "initial_points = points_in_cuboid(xint, yint, zint);"
   ]
  },
  {
   "attachments": {},
   "cell_type": "markdown",
   "metadata": {},
   "source": [
    "Saves matrices with the solutions for all the initial values created above, for different timesteps and solvers. Since these are created to then be compared at the same points in time we only return the solutions for t = n $\\Delta t$ , n=0,..N . Importantly the timesteps used then have to be a fraction of $\\Delta t$, we make sure of this by using points_solutions_matrix and adjusting the \"steps_per_ $\\Delta t$\" variable."
   ]
  },
  {
   "cell_type": "code",
   "execution_count": 10,
   "metadata": {},
   "outputs": [],
   "source": [
    "solvers = [RK4]\n",
    "steps_vec = [10 20 40 80 160 320 640]\n",
    "for solver = [RK4]\n",
    "    for steps = steps_vec\n",
    "        M = points_solutions_matrix(p,Δt,N,initial_points,solver, steps_per_Δt=steps)\n",
    "        str = string(\"variables\", \"\\\\\", string(solver), \"\\\\\", i, \".jld2\")\n",
    "        FileIO.save(str,\"M\",M);\n",
    "    end\n",
    "end"
   ]
  }
 ],
 "metadata": {
  "kernelspec": {
   "display_name": "Julia 1.8.5",
   "language": "julia",
   "name": "julia-1.8"
  },
  "language_info": {
   "file_extension": ".jl",
   "mimetype": "application/julia",
   "name": "julia",
   "version": "1.8.5"
  },
  "orig_nbformat": 4,
  "vscode": {
   "interpreter": {
    "hash": "570feb405e2e27c949193ac68f46852414290d515b0ba6e5d90d076ed2284471"
   }
  }
 },
 "nbformat": 4,
 "nbformat_minor": 2
}
