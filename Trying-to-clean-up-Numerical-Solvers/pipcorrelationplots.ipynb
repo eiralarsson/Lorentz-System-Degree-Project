{
 "cells": [
  {
   "cell_type": "code",
   "execution_count": 1,
   "metadata": {},
   "outputs": [],
   "source": [
    "using DifferentialEquations\n",
    "using LinearAlgebra\n",
    "using Plots\n",
    "using FileIO, JLD2"
   ]
  },
  {
   "cell_type": "code",
   "execution_count": 2,
   "metadata": {},
   "outputs": [
    {
     "data": {
      "text/plain": [
       "points_on_sphere (generic function with 2 methods)"
      ]
     },
     "metadata": {},
     "output_type": "display_data"
    }
   ],
   "source": [
    "include(\"solvers.jl\")\n",
    "include(\"plot_functions.jl\")\n",
    "include(\"useful_functions.jl\")\n",
    "include(\"point_generators.jl\")"
   ]
  },
  {
   "attachments": {},
   "cell_type": "markdown",
   "metadata": {},
   "source": [
    "Introduces the same variable values as in \"pipcorrelationvariables.ipynb\". We need these to make good plots."
   ]
  },
  {
   "cell_type": "code",
   "execution_count": null,
   "metadata": {},
   "outputs": [],
   "source": [
    "Δt = 0.1\n",
    "T = 60\n",
    "N = Integer(T/Δt)"
   ]
  },
  {
   "attachments": {},
   "cell_type": "markdown",
   "metadata": {},
   "source": [
    "Loads the solution matrix created in \"pipcorrelationvariables.ipynb\" which we want to use as our \"true\" solution into the workspace"
   ]
  },
  {
   "cell_type": "code",
   "execution_count": 4,
   "metadata": {},
   "outputs": [],
   "source": [
    "Mtrue = FileIO.load(raw\"variables\\RK4\\640.jld2\",\"M\");"
   ]
  },
  {
   "attachments": {},
   "cell_type": "markdown",
   "metadata": {},
   "source": [
    "Chose what solvers and what timesteps we want to use for the plots. The \"steps_vec\" variable represent the different timesteps and should only contain numbers used in the \"steps_vec\" variable in \"pipcorrelationmatrix.ipynb\" when creating the solutionmatrices which we'll use here"
   ]
  },
  {
   "cell_type": "code",
   "execution_count": 21,
   "metadata": {},
   "outputs": [],
   "source": [
    "solvers = [RK4]\n",
    "steps_vec = [10 20 40 80 160 320 640]\n"
   ]
  },
  {
   "attachments": {},
   "cell_type": "markdown",
   "metadata": {},
   "source": [
    "Creates and saves heatmaps of the correlation for different solvers and timesteps with the \"true\" solution, depending on time and initial values.  $\\newline$ \n",
    "Here we use the other solution matrices created in \"pipcorrelationmatrix.ipynb\"."
   ]
  },
  {
   "cell_type": "code",
   "execution_count": null,
   "metadata": {},
   "outputs": [],
   "source": [
    "for solver = solvers\n",
    "    for steps = steps_vec \n",
    "        \n",
    "        loadString = string(\"variables\", \"\\\\\", solver, \"\\\\\", steps, \".jld2\")\n",
    "        M = FileIO.load(loadString,\"M\")\n",
    "\n",
    "        c = correlation_matrix(M, Mtrue)\n",
    "        plot_pip_plot(c, Δt, clim=(0.7,1))\n",
    "        \n",
    "        saveString = string(\"plots\", \"\\\\\", \"Correlation\", \"\\\\\", solver, \"\\\\\", steps, \".png\")\n",
    "        savefig(saveString)\n",
    "    end\n",
    "end"
   ]
  },
  {
   "attachments": {},
   "cell_type": "markdown",
   "metadata": {},
   "source": [
    "Creates and saves heatmaps of average correlation between chosen solvers and the \"true\" solution, depending on time and timestep size."
   ]
  },
  {
   "cell_type": "code",
   "execution_count": 30,
   "metadata": {},
   "outputs": [],
   "source": [
    "l = length(steps_vec)\n",
    "x = [0:Δt:T]\n",
    "y = [1:l]\n",
    "for solver = solvers\n",
    "    Mavg = zeros(l, N+1)\n",
    "    for j = 1:l\n",
    "        loadString = string(\"Variables\", \"\\\\\", solver, \"\\\\\", steps_vec[j], \".jld2\")\n",
    "        M = FileIO.load(loadString,\"M\")\n",
    "        c = correlation_matrix(M, Mtrue)\n",
    "        Mavg[j,:] = sum(c,dims=1)/size(c)[1]\n",
    "    end\n",
    "    saveString = string(\"plots\", \"\\\\\", \"correlation\", \"\\\\\", solver, \"\\\\\", solver,\"_average\", \".png\")\n",
    "    title = string(solver, \" vs RadauIIA5 Δt=1E-5\")\n",
    "    heatmap(x,y,Mavg, ylabel=\"k\", xlabel=\"time t\", clim=(0.7,1), cmap=:grayC, title=title)\n",
    "    savefig(saveString)\n",
    "end"
   ]
  }
 ],
 "metadata": {
  "kernelspec": {
   "display_name": "Julia 1.8.5",
   "language": "julia",
   "name": "julia-1.8"
  },
  "language_info": {
   "file_extension": ".jl",
   "mimetype": "application/julia",
   "name": "julia",
   "version": "1.8.5"
  },
  "orig_nbformat": 4,
  "vscode": {
   "interpreter": {
    "hash": "5a8b9c3aec692a8505951eae9d6dfc164e51ad0c5c16f5b9c77fe517ec0dc8ed"
   }
  }
 },
 "nbformat": 4,
 "nbformat_minor": 2
}
