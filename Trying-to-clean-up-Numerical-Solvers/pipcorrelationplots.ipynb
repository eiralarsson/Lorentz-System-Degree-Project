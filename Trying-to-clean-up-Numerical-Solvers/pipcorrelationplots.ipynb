{
 "cells": [
  {
   "cell_type": "code",
   "execution_count": 1,
   "metadata": {},
   "outputs": [],
   "source": [
    "using DifferentialEquations\n",
    "using LinearAlgebra\n",
    "using Plots\n",
    "using FileIO, JLD2"
   ]
  },
  {
   "cell_type": "code",
   "execution_count": 2,
   "metadata": {},
   "outputs": [
    {
     "data": {
      "text/plain": [
       "points_on_sphere (generic function with 2 methods)"
      ]
     },
     "metadata": {},
     "output_type": "display_data"
    }
   ],
   "source": [
    "include(\"Solvers.jl\")\n",
    "include(\"PlotFunctions.jl\")\n",
    "include(\"UsefulFunctions.jl\")\n",
    "include(\"PointGenerators.jl\")"
   ]
  },
  {
   "attachments": {},
   "cell_type": "markdown",
   "metadata": {},
   "source": [
    "Introduces the same variable values as in \"pipcorrelationvariables.ipynb\". We need these to make good plots."
   ]
  },
  {
   "cell_type": "code",
   "execution_count": 3,
   "metadata": {},
   "outputs": [
    {
     "data": {
      "text/plain": [
       "600"
      ]
     },
     "metadata": {},
     "output_type": "display_data"
    }
   ],
   "source": [
    "Δt = 0.1\n",
    "T = 60\n",
    "N = Integer(T/Δt)"
   ]
  },
  {
   "attachments": {},
   "cell_type": "markdown",
   "metadata": {},
   "source": [
    "Loads the solution matrix created in \"pipcorrelationvariables.ipynb\" which we want to use as our \"true\" solution into the workspace"
   ]
  },
  {
   "cell_type": "code",
   "execution_count": 12,
   "metadata": {},
   "outputs": [],
   "source": [
    "truesolver = RadauIIA5\n",
    "truesteps = 10000\n",
    "str = string(\"variables\", \"\\\\\", truesolver, \"\\\\\", truesteps, \".jld2\")\n",
    "Mtrue = FileIO.load(str,\"M\");"
   ]
  },
  {
   "attachments": {},
   "cell_type": "markdown",
   "metadata": {},
   "source": [
    "Here we choose what solvers and what timesteps we want to use for the plots. The \"steps_vec\" variable represent the different timesteps and should only contain numbers used in the \"steps_vec\" variable in \"pipcorrelationmatrix.ipynb\" when we created the solutionmatrices"
   ]
  },
  {
   "cell_type": "code",
   "execution_count": 7,
   "metadata": {},
   "outputs": [],
   "source": [
    "solvers = [RK4 EulerCromer EulerForward DTM RadauIIA5 Rodas5]\n",
    "steps_vec = [10 20 40 80 160 320 640]\n",
    ";"
   ]
  },
  {
   "attachments": {},
   "cell_type": "markdown",
   "metadata": {},
   "source": [
    "Creates heatmaps of the correlation for different solvers and timesteps with the \"true\" solution, depending on time and initial values.  $\\newline$ \n",
    "Here we use the other solution matrices created in \"pipcorrelationmatrix.ipynb\". Saves the heatmaps as \"plots\\correlation\\solver\\steps.png\""
   ]
  },
  {
   "cell_type": "code",
   "execution_count": 6,
   "metadata": {},
   "outputs": [],
   "source": [
    "for solver = solvers\n",
    "    for steps = steps_vec \n",
    "        \n",
    "        loadString = string(\"variables\", \"\\\\\", solver, \"\\\\\", steps, \".jld2\")\n",
    "        M = FileIO.load(loadString,\"M\")\n",
    "\n",
    "        c = correlation_matrix(M, Mtrue)\n",
    "        plot_pip_plot(c, Δt, clim=(0.7,1))\n",
    "        \n",
    "        saveString = string(\"plots\", \"\\\\\", \"Correlation\", \"\\\\\", solver, \"\\\\\", steps, \".png\")\n",
    "        savefig(saveString)\n",
    "    end\n",
    "end"
   ]
  },
  {
   "attachments": {},
   "cell_type": "markdown",
   "metadata": {},
   "source": [
    "Creates heatmaps of average correlation between chosen solvers and the \"true\" solution, depending on time and timestep size. Saves them as \"plots\\correlation\\solver\\average.png\" "
   ]
  },
  {
   "cell_type": "code",
   "execution_count": 13,
   "metadata": {},
   "outputs": [],
   "source": [
    "l = length(steps_vec)\n",
    "x = [0:Δt:T]\n",
    "y = [1:l]\n",
    "for solver = solvers\n",
    "    Mavg = zeros(l, N+1)\n",
    "    for j = 1:l\n",
    "        loadString = string(\"Variables\", \"\\\\\", solver, \"\\\\\", steps_vec[j], \".jld2\")\n",
    "        M = FileIO.load(loadString,\"M\")\n",
    "        c = correlation_matrix(M, Mtrue)\n",
    "        Mavg[j,:] = sum(c,dims=1)/size(c)[1]\n",
    "    end\n",
    "    saveString = string(\"plots\", \"\\\\\", \"correlation\", \"\\\\\", solver, \"\\\\\", \"average\", \".png\")\n",
    "    title = string(solver, \" vs \", truesolver, \" Δt=\", Δt/truesteps)\n",
    "    heatmap(x,y,Mavg, ylabel=\"k\", xlabel=\"time t\", clim=(0.7,1), cmap=:grayC, title=title)\n",
    "    savefig(saveString)\n",
    "end"
   ]
  }
 ],
 "metadata": {
  "kernelspec": {
   "display_name": "Julia 1.8.5",
   "language": "julia",
   "name": "julia-1.8"
  },
  "language_info": {
   "file_extension": ".jl",
   "mimetype": "application/julia",
   "name": "julia",
   "version": "1.8.5"
  },
  "orig_nbformat": 4,
  "vscode": {
   "interpreter": {
    "hash": "5a8b9c3aec692a8505951eae9d6dfc164e51ad0c5c16f5b9c77fe517ec0dc8ed"
   }
  }
 },
 "nbformat": 4,
 "nbformat_minor": 2
}
