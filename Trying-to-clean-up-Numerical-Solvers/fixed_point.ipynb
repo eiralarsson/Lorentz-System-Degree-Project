{
 "cells": [
  {
   "cell_type": "code",
   "execution_count": 1,
   "metadata": {},
   "outputs": [],
   "source": [
    "using Plots;\n",
    "using DifferentialEquations;\n",
    "using LinearAlgebra;"
   ]
  },
  {
   "cell_type": "code",
   "execution_count": 3,
   "metadata": {},
   "outputs": [
    {
     "data": {
      "text/plain": [
       "points_on_sphere (generic function with 2 methods)"
      ]
     },
     "metadata": {},
     "output_type": "display_data"
    }
   ],
   "source": [
    "include(\"solvers.jl\")\n",
    "include(\"plot_functions.jl\")\n",
    "include(\"useful_functions.jl\")\n",
    "include(\"point_generators.jl\")"
   ]
  },
  {
   "cell_type": "code",
   "execution_count": 4,
   "metadata": {},
   "outputs": [
    {
     "data": {
      "text/plain": [
       "50000"
      ]
     },
     "metadata": {},
     "output_type": "display_data"
    }
   ],
   "source": [
    "θ, β = 10, 8/3\n",
    "Δt = 0.001\n",
    "T = 50\n",
    "N = Integer(T/Δt)\n",
    ";"
   ]
  },
  {
   "cell_type": "code",
   "execution_count": 5,
   "metadata": {},
   "outputs": [],
   "source": [
    "Δμ = 0.1\n",
    "maxμ = θ*(θ+β+3)/(θ-β-1)\n",
    "minμ = 1 + Δμ\n",
    ";"
   ]
  },
  {
   "cell_type": "code",
   "execution_count": 6,
   "metadata": {},
   "outputs": [
    {
     "name": "stdout",
     "output_type": "stream",
     "text": [
      "RK4 failed 0 times. max=0.0 min=0.0 avg=0.0\n"
     ]
    },
    {
     "name": "stdout",
     "output_type": "stream",
     "text": [
      "EulerCromer failed 0 times. max=0.0 min=0.0 avg=0.0\n"
     ]
    },
    {
     "name": "stdout",
     "output_type": "stream",
     "text": [
      "EulerForward failed 0 times. max=0.0 min=0.0 avg=0.0\n"
     ]
    },
    {
     "name": "stdout",
     "output_type": "stream",
     "text": [
      "DTM failed 0 times. max=0.0 min=0.0 avg=0.0\n"
     ]
    },
    {
     "name": "stdout",
     "output_type": "stream",
     "text": [
      "RadauIIA5 failed 0 times. max=0.0 min=0.0 avg=0.0\n"
     ]
    },
    {
     "name": "stdout",
     "output_type": "stream",
     "text": [
      "Rodas5 failed 0 times. max=0.0 min=0.0 avg=0.0\n"
     ]
    }
   ],
   "source": [
    "tol = 0.0\n",
    "for solver = [RK4 EulerCromer EulerForward DTM RadauIIA5 Rodas5]\n",
    "    err_vec = [0.0]\n",
    "    for μ = minμ:Δμ:maxμ\n",
    "        p = [θ,μ,β]\n",
    "        val = sqrt(β*(μ-1))\n",
    "        for x = [[0,0,0],[val, val, μ-1],[-val, -val, μ-1]]\n",
    "            X = lorenz_solution_fixed_timestep(p, Δt, N, x, solver)\n",
    "            max_err = maximum(broadcast(abs,X-ones(3,N+1).*(x)))\n",
    "            if max_err > tol\n",
    "                append!(err_vec,max_err)\n",
    "            end\n",
    "        end\n",
    "    end\n",
    "    print(solver, \" failed \", length(err_vec)-1, \" times.\", \" max=\", maximum(err_vec), \" min=\", minimum(err_vec), \" avg=\", sum(err_vec)/length(err_vec), \"\\n\")\n",
    "end"
   ]
  }
 ],
 "metadata": {
  "kernelspec": {
   "display_name": "Julia 1.8.5",
   "language": "julia",
   "name": "julia-1.8"
  },
  "language_info": {
   "file_extension": ".jl",
   "mimetype": "application/julia",
   "name": "julia",
   "version": "1.8.5"
  },
  "orig_nbformat": 4
 },
 "nbformat": 4,
 "nbformat_minor": 2
}
