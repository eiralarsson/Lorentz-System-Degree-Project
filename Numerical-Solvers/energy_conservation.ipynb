{
 "cells": [
  {
   "attachments": {},
   "cell_type": "markdown",
   "metadata": {},
   "source": [
    "This notebook explores what happens to the Energy Function $x^2 + y^2 + z^2$ for different numerical solvers to the Lorenz System. This is checked for three different parameter tripples and for some different initial conditions."
   ]
  },
  {
   "cell_type": "code",
   "execution_count": null,
   "metadata": {},
   "outputs": [],
   "source": [
    "using Plots\n",
    "using LinearAlgebra\n",
    "using DifferentialEquations\n",
    "using Random\n",
    "using QuadGK"
   ]
  },
  {
   "cell_type": "code",
   "execution_count": null,
   "metadata": {},
   "outputs": [],
   "source": [
    "include(\"euler_method.jl\")\n",
    "include(\"DTM.jl\")\n",
    "include(\"lorentz_system.jl\")\n",
    "include(\"RK4.jl\")\n",
    "include(\"EulerCromer.jl\")"
   ]
  },
  {
   "attachments": {},
   "cell_type": "markdown",
   "metadata": {},
   "source": [
    "First we have some help functions for our analysis"
   ]
  },
  {
   "cell_type": "code",
   "execution_count": null,
   "metadata": {},
   "outputs": [],
   "source": [
    "function EnergyFunction(x)\n",
    "    # a very simple energy function\n",
    "    return x[1]^2 + x[2]^2 + x[3]^2 \n",
    "end"
   ]
  },
  {
   "cell_type": "code",
   "execution_count": null,
   "metadata": {},
   "outputs": [],
   "source": [
    "# Finds the energy at each step of the trajectory for starting position x̄₀\n",
    "function Energy_of_Path(ẋ::Function, Δt, tim, x̄₀, p)\n",
    "    tsteps = Int(tim/Δt)\n",
    "    x̄=x̄₀\n",
    "    Energy = zeros(tsteps)\n",
    "    for i=1:tsteps\n",
    "        x̄= ẋ(p,x̄,Δt)\n",
    "        Energy[i] = EnergyFunction(x̄)\n",
    "    end\n",
    "    return Energy\n",
    "end"
   ]
  },
  {
   "cell_type": "code",
   "execution_count": null,
   "metadata": {},
   "outputs": [],
   "source": [
    "# Creates nr_of_dots initial conditions on a sphere with radius r\n",
    "function Points_on_Sphere(nr_of_dots, r)\n",
    "    dots = zeros(3, nr_of_dots)\n",
    "    for i=1:nr_of_dots\n",
    "        dot = rand(-1.0:0.001:1.0,(1,3))\n",
    "        dot = r*dot./norm(dot)\n",
    "        dots[:,i] = dot\n",
    "    end\n",
    "    return dots\n",
    "end"
   ]
  },
  {
   "cell_type": "code",
   "execution_count": null,
   "metadata": {},
   "outputs": [],
   "source": [
    "function Plot_Energies(ẋ,initial_vals, time, Δt,p)\n",
    "    Energies = zeros(length(initial_vals[1,:]), Int(time/Δt))\n",
    "    i=1\n",
    "    for x̄₀ in eachcol(initial_vals)\n",
    "        Energies[i,:] = Energy_of_Path(ẋ, Δt, time, x̄₀, p)\n",
    "        i+=1\n",
    "    end\n",
    "\n",
    "    plt=plot(\n",
    "        yaxis= :log10,\n",
    "        title=\"Semilog plot of the Energy\",\n",
    "        xlabel=\"time\",\n",
    "        ylabel=\"Energy\"\n",
    "    )\n",
    "    plot(plt,range(0,stop=time-Δt,step=Δt),Energies[1,:])\n",
    "    plot!(plt,range(0,stop=time-Δt,step=Δt),Energies[2,:])\n",
    "    plot!(plt,range(0,stop=time-Δt,step=Δt),Energies[3,:])\n",
    "    plot!(plt,range(0,stop=time-Δt,step=Δt),Energies[4,:])\n",
    "    plot!(plt,range(0,stop=time-Δt,step=Δt),Energies[5,:])\n",
    "    #plot!(plt,range(0,stop=time-Δt,step=Δt),Energies[6,:])\n",
    "    #plot!(plt,range(0,stop=time-Δt,step=Δt),Energies[7,:])\n",
    "    #plot!(plt,range(0,stop=time-Δt,step=Δt),Energies[8,:])\n",
    "    #plot!(plt,range(0,stop=time-Δt,step=Δt),Energies[9,:])\n",
    "    #plot!(plt,range(0,stop=time-Δt,step=Δt),Energies[10,:])\n",
    "end"
   ]
  },
  {
   "cell_type": "code",
   "execution_count": null,
   "metadata": {},
   "outputs": [],
   "source": [
    "prob = ODEProblem(LorentzSystem,[1,2,3],(0.0,time),[θ,μ,β])\n",
    "sol = solve(prob, RadauIIA5(), dt=Δt)\n",
    "plot(sol.t,[EnergyFunction(x) for x in sol.u])"
   ]
  },
  {
   "cell_type": "code",
   "execution_count": null,
   "metadata": {},
   "outputs": [],
   "source": [
    "function Plot_Energies_Preex(ẋ,initial_vals, time, Δt,p)\n",
    "\n",
    "    Energies = zeros(length(initial_vals[1,:]), Int(time/Δt))\n",
    "    solutions = [[]]\n",
    "    i=1\n",
    "    p=plot(\n",
    "        yaxis= :log10,\n",
    "        title=\"Semilog plot of the Energy\",\n",
    "        xlabel=\"time\",\n",
    "        ylabel=\"Energy\"\n",
    "    )\n",
    "    for x̄₀ in eachcol(initial_vals)\n",
    "        prob = ODEProblem(LorentzSystem,x̄₀,(0.0,time),[θ,μ,β])\n",
    "        sol = solve(prob, ẋ, dt=Δt)\n",
    "        NRG = zeros(length(sol.u[:,1]))\n",
    "        plot!(p,sol.t,[EnergyFunction(x) for x in sol.u],label=string([round(x̄₀[1]),round(x̄₀[2]),round(x̄₀[3])]),legend = :outertopleft)\n",
    "        solutions = [solutions, sol.t]\n",
    "        i+=1\n",
    "    end\n",
    "    display(p)\n",
    "end"
   ]
  },
  {
   "attachments": {},
   "cell_type": "markdown",
   "metadata": {},
   "source": [
    "Analysis of the energy when $\\mu < 1$ and the origin is globally stable"
   ]
  },
  {
   "cell_type": "code",
   "execution_count": null,
   "metadata": {},
   "outputs": [],
   "source": [
    "## parameter values\n",
    "θ = 10.0; β = 8/3; μ = 1/2\n",
    "time = 20\n",
    "Δt = 0.001\n",
    "\n",
    "# initial values\n",
    "nr_of_initial_conditions = 5\n",
    "r = 250 # From the analysis of global stability, we know that all solvers converge to the origin when r <= 250\n",
    "initial_vals = Points_on_Sphere(nr_of_initial_conditions, r)"
   ]
  },
  {
   "cell_type": "code",
   "execution_count": null,
   "metadata": {},
   "outputs": [],
   "source": [
    "Plot_Energies_Preex(RadauIIA5(), initial_vals, time, Δt, [θ,μ,β])\n",
    "savefig(\"RadauIIA5Energy_origin.png\")"
   ]
  },
  {
   "cell_type": "code",
   "execution_count": null,
   "metadata": {},
   "outputs": [],
   "source": [
    "#Euler Forward\n",
    "Plot_Energies(EulerForward, initial_vals, time, Δt, [θ,μ,β])\n",
    "savefig(\"EulerForwardEnergy_origin.png\")"
   ]
  },
  {
   "cell_type": "code",
   "execution_count": null,
   "metadata": {},
   "outputs": [],
   "source": [
    "#Runge Kutta 4\n",
    "Plot_Energies(RK4, initial_vals, time, Δt, [θ,μ,β])\n",
    "savefig(\"RK4Energy_origin.png\")"
   ]
  },
  {
   "cell_type": "code",
   "execution_count": null,
   "metadata": {},
   "outputs": [],
   "source": [
    "#DTM\n",
    "Plot_Energies(DTM, initial_vals, time, Δt, [θ,μ,β])\n",
    "savefig(\"DTMEnergy_origin.png\")"
   ]
  },
  {
   "cell_type": "code",
   "execution_count": null,
   "metadata": {},
   "outputs": [],
   "source": [
    "Plot_Energies(EulerCromer, initial_vals, time, Δt, [θ,μ,β])\n",
    "savefig(\"EulerCromerEnergy_origin.png\")"
   ]
  },
  {
   "attachments": {},
   "cell_type": "markdown",
   "metadata": {},
   "source": [
    "Analysis of the energy for when there exists two additional fixpoints to the origin"
   ]
  },
  {
   "cell_type": "code",
   "execution_count": null,
   "metadata": {},
   "outputs": [],
   "source": [
    "## parameter values\n",
    "θ = 10.0; β = 8/3; μ = 23.5\n",
    "time = 100\n",
    "Δt = 0.001\n",
    "\n",
    "# Fixed points\n",
    "x̄_fix1 = [sqrt(8*22.5/3);\n",
    "          sqrt(8*22.5/3);\n",
    "          22.5]\n",
    "\n",
    "x̄_fix2 = [-sqrt(8*22.5/3);\n",
    "          -sqrt(8*22.5/3);\n",
    "          22.5]"
   ]
  },
  {
   "cell_type": "code",
   "execution_count": null,
   "metadata": {},
   "outputs": [],
   "source": [
    "# Euler Forward\n",
    "# Basically didn't want to converge for Δt=0.001\n",
    "Δt = 0.0001\n",
    "nr_of_initial_conditions = 5\n",
    "r = 1/100 # the fix points are not globally stable but stable\n",
    "initial_vals = Points_on_Sphere(nr_of_initial_conditions, r)\n",
    "initial_vals1 = initial_vals .+ x̄_fix1\n",
    "Plot_Energies(EulerForward, initial_vals1, time, Δt, [θ,μ,β])\n",
    "savefig(\"EulerForwardEnergy_fix1.png\")"
   ]
  },
  {
   "cell_type": "code",
   "execution_count": null,
   "metadata": {},
   "outputs": [],
   "source": [
    "nr_of_initial_conditions = 5\n",
    "Δt = 0.001\n",
    "\n",
    "r =2 # the fix points are not globally stable but stable\n",
    "initial_vals = Points_on_Sphere(nr_of_initial_conditions, r)\n",
    "initial_vals1 = initial_vals .+ x̄_fix1\n",
    "initial_vals2 = initial_vals .+ x̄_fix2"
   ]
  },
  {
   "cell_type": "code",
   "execution_count": null,
   "metadata": {},
   "outputs": [],
   "source": [
    "#Runge Kutta 4\n",
    "Plot_Energies(RK4, initial_vals1, time, Δt, [θ,μ,β])\n",
    "savefig(\"RK4_fixp.png\")"
   ]
  },
  {
   "cell_type": "code",
   "execution_count": null,
   "metadata": {},
   "outputs": [],
   "source": [
    "Plot_Energies_Preex(RadauIIA5(), initial_vals1, time, Δt, [θ,μ,β])\n",
    "savefig(\"RadauIIA5Energy_fix1.png\")"
   ]
  },
  {
   "cell_type": "code",
   "execution_count": null,
   "metadata": {},
   "outputs": [],
   "source": [
    "# DTM\n",
    "Plot_Energies(DTM, initial_vals1, time, Δt, [θ,μ,β])\n",
    "savefig(\"DTMEnergy_fix1.png\")"
   ]
  },
  {
   "cell_type": "code",
   "execution_count": null,
   "metadata": {},
   "outputs": [],
   "source": [
    "# Euler Cromer\n",
    "Plot_Energies(EulerCromer, initial_vals1, time, Δt, [θ,μ,β])\n",
    "savefig(\"EulerCromerEnergy_fix1.png\")"
   ]
  },
  {
   "attachments": {},
   "cell_type": "markdown",
   "metadata": {},
   "source": [
    "Analysis of the energy for the traditional chaotic Lorenz parameters $\\theta=10$, $\\beta = \\frac{8}{3}$, $\\mu = 28$"
   ]
  },
  {
   "cell_type": "code",
   "execution_count": null,
   "metadata": {},
   "outputs": [],
   "source": [
    "## parameter values\n",
    "θ = 10.0; β = 8/3; μ = 28\n",
    "time = 50\n",
    "Δt = 0.001\n",
    "\n",
    "# initial values\n",
    "nr_of_initial_conditions = 5\n",
    "r = 250 # From the analysis of global stability, we know that all solvers converge to the origin when r <= 250\n",
    "intitial_vals = Points_on_Sphere(nr_of_initial_conditions, r)"
   ]
  },
  {
   "cell_type": "code",
   "execution_count": null,
   "metadata": {},
   "outputs": [],
   "source": [
    "Plot_Energies_Preex(RadauIIA5(), initial_vals1, time, Δt, [θ,μ,β])\n",
    "savefig(\"RadauIIA5Energy_chaos.png\")"
   ]
  },
  {
   "cell_type": "code",
   "execution_count": null,
   "metadata": {},
   "outputs": [],
   "source": [
    "#Euler Forward\n",
    "Plot_Energies(EulerForward, initial_vals, time, Δt, [θ,μ,β])\n",
    "savefig(\"EulerForwardEnergy_chaos.png\")"
   ]
  },
  {
   "cell_type": "code",
   "execution_count": null,
   "metadata": {},
   "outputs": [],
   "source": [
    "#Runge Kutta 4\n",
    "Plot_Energies(RK4, initial_vals, time, Δt, [θ,μ,β])\n",
    "savefig(\"RK4Energy_chaos.png\")"
   ]
  },
  {
   "cell_type": "code",
   "execution_count": null,
   "metadata": {},
   "outputs": [],
   "source": [
    "#DTM\n",
    "Plot_Energies(DTM, initial_vals, time, Δt, [θ,μ,β])\n",
    "savefig(\"DTMEnergy_chaos.png\")"
   ]
  },
  {
   "cell_type": "code",
   "execution_count": null,
   "metadata": {},
   "outputs": [],
   "source": [
    "# Euler Cromer\n",
    "Plot_Energies(EulerCromer, initial_vals, time, Δt, [θ,μ,β])\n",
    "savefig(\"EulerCromerEnergy_chaos.png\")"
   ]
  }
 ],
 "metadata": {
  "kernelspec": {
   "display_name": "Julia 1.8.5",
   "language": "julia",
   "name": "julia-1.8"
  },
  "language_info": {
   "file_extension": ".jl",
   "mimetype": "application/julia",
   "name": "julia",
   "version": "1.8.5"
  },
  "orig_nbformat": 4
 },
 "nbformat": 4,
 "nbformat_minor": 2
}
