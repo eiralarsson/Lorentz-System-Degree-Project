{
 "cells": [
  {
   "attachments": {},
   "cell_type": "markdown",
   "metadata": {},
   "source": [
    "This notebook explores what happens to the Energy Function $x^2 + y^2 + z^2$ for different numerical solvers to the Lorenz System. This is checked for three different parameter tripples and for some different initial conditions."
   ]
  },
  {
   "cell_type": "code",
   "execution_count": 37,
   "metadata": {},
   "outputs": [
    {
     "name": "stderr",
     "output_type": "stream",
     "text": [
      "WARNING: using PlotlyJS.plot in module Main conflicts with an existing identifier.\n"
     ]
    }
   ],
   "source": [
    "using Plots\n",
    "using LinearAlgebra\n",
    "using DifferentialEquations\n",
    "using Random #could use a seed\n",
    "using PlotlyJS"
   ]
  },
  {
   "cell_type": "code",
   "execution_count": 41,
   "metadata": {},
   "outputs": [
    {
     "data": {
      "text/plain": [
       "PointsOnSphere (generic function with 2 methods)"
      ]
     },
     "metadata": {},
     "output_type": "display_data"
    }
   ],
   "source": [
    "include(\"Solvers.jl\")\n",
    "include(\"UsefulFunctions.jl\")\n",
    "include(\"PointGenerators.jl\")"
   ]
  },
  {
   "attachments": {},
   "cell_type": "markdown",
   "metadata": {},
   "source": [
    "First we have some help functions for our analysis"
   ]
  },
  {
   "cell_type": "code",
   "execution_count": 42,
   "metadata": {},
   "outputs": [
    {
     "data": {
      "text/plain": [
       "EnergyFunction (generic function with 1 method)"
      ]
     },
     "metadata": {},
     "output_type": "display_data"
    }
   ],
   "source": [
    "function EnergyFunction(x)\n",
    "    # a very simple energy function\n",
    "    return x[1]^2 + x[2]^2 + x[3]^2 \n",
    "end"
   ]
  },
  {
   "cell_type": "code",
   "execution_count": 43,
   "metadata": {},
   "outputs": [
    {
     "data": {
      "text/plain": [
       "Energy_of_Path (generic function with 1 method)"
      ]
     },
     "metadata": {},
     "output_type": "display_data"
    }
   ],
   "source": [
    "# Finds the energy at each step of the trajectory for starting position x̄₀\n",
    "function Energy_of_Path(ẋ::Function, Δt, tim, x̄₀, p)\n",
    "    tsteps = Int(tim/Δt)\n",
    "    x̄=x̄₀\n",
    "    Energy = zeros(tsteps)\n",
    "    for i=1:tsteps\n",
    "        x̄= ẋ(p,x̄,Δt)\n",
    "        Energy[i] = EnergyFunction(x̄)\n",
    "    end\n",
    "    return Energy\n",
    "end"
   ]
  },
  {
   "cell_type": "code",
   "execution_count": 9,
   "metadata": {},
   "outputs": [
    {
     "data": {
      "text/plain": [
       "Plot_Energies (generic function with 1 method)"
      ]
     },
     "metadata": {},
     "output_type": "display_data"
    }
   ],
   "source": [
    "function Plot_Energies(ẋ,initial_vals, time, Δt,p)\n",
    "    Energies = zeros(length(initial_vals[1,:]), Int(time/Δt))\n",
    "    i=1\n",
    "\n",
    "    plt=plot(\n",
    "        yaxis= :log10,\n",
    "        xlim = (0,time),\n",
    "        title=\"Semilog plot of the Energy $ẋ \\n r=$r and Δt=$Δt\",\n",
    "        xlabel=\"time\",\n",
    "        ylabel=\"Energy\",\n",
    "        palette = :seaborn_dark6,\n",
    "        dpi = 300\n",
    "    )\n",
    "\n",
    "    for x̄₀ in eachcol(initial_vals)\n",
    "        Energies[i,:] = Energy_of_Path(ẋ, Δt, time, x̄₀, p)\n",
    "        plot!(plt,range(0,stop=time-Δt,step=Δt),Energies[i,:], label=string([round(x̄₀[1]),round(x̄₀[2]),round(x̄₀[3])]))\n",
    "        i+=1\n",
    "    end\n",
    "    display(plt)\n",
    "end"
   ]
  },
  {
   "cell_type": "code",
   "execution_count": 38,
   "metadata": {},
   "outputs": [
    {
     "data": {
      "text/plain": [
       "Plot_Energies_Fixp (generic function with 1 method)"
      ]
     },
     "metadata": {},
     "output_type": "display_data"
    }
   ],
   "source": [
    "function Plot_Energies_Fixp(ẋ,initial_vals, time, Δt,p)\n",
    "    Energies = zeros(length(initial_vals[1,:]), Int(time/Δt))\n",
    "    i=1\n",
    "\n",
    "    plt=plot(\n",
    "        xlim = (0,time),\n",
    "        title=\"Plot of the Energy $ẋ \\n r=$r and Δt=$Δt\",\n",
    "        xlabel=\"time\",\n",
    "        ylabel=\"Energy\",\n",
    "        palette = :seaborn_dark6,\n",
    "        dpi = 300,\n",
    "        linewidth = 4,\n",
    "        Layout(\n",
    "        width=800, height=400,\n",
    "        )\n",
    "    )\n",
    "\n",
    "    for x̄₀ in eachcol(initial_vals)\n",
    "        Energies[i,:] = Energy_of_Path(ẋ, Δt, time, x̄₀, p)\n",
    "        plot!(plt,range(0,stop=time-Δt,step=Δt),Energies[i,:], label=string([round(x̄₀[1]),round(x̄₀[2]),round(x̄₀[3])]))\n",
    "        i+=1\n",
    "    end\n",
    "    display(plt)\n",
    "end"
   ]
  },
  {
   "cell_type": "code",
   "execution_count": 11,
   "metadata": {},
   "outputs": [
    {
     "data": {
      "text/plain": [
       "Plot_Energies_Preex (generic function with 1 method)"
      ]
     },
     "metadata": {},
     "output_type": "display_data"
    }
   ],
   "source": [
    "function Plot_Energies_Preex(ẋ,initial_vals, time, Δt,p)\n",
    "\n",
    "    Energies = zeros(length(initial_vals[1,:]), Int(time/Δt))\n",
    "    solutions = [[]]\n",
    "    i=1\n",
    "    p=plot(\n",
    "        yaxis= :log10,\n",
    "        title=\"Semilog plot of the Energy Rodas5 \\n r=$r and Δt=$Δt\",\n",
    "        xlabel=\"time\",\n",
    "        ylabel=\"Energy\",\n",
    "        palette = :seaborn_dark6,\n",
    "        dpi = 300\n",
    "    )\n",
    "    for x̄₀ in eachcol(initial_vals)\n",
    "        prob = ODEProblem(LorentzSystem,x̄₀,(0.0,time),[θ,μ,β])\n",
    "        sol = solve(prob, ẋ, dt=Δt)\n",
    "        NRG = zeros(length(sol.u[:,1]))\n",
    "        plot!(p,sol.t,[EnergyFunction(x) for x in sol.u],label=string([round(x̄₀[1]),round(x̄₀[2]),round(x̄₀[3])]))\n",
    "        solutions = [solutions, sol.t]\n",
    "        i+=1\n",
    "    end\n",
    "    display(p)\n",
    "end"
   ]
  },
  {
   "attachments": {},
   "cell_type": "markdown",
   "metadata": {},
   "source": [
    "Analysis of the energy when $\\mu < 1$ and the origin is globally stable"
   ]
  },
  {
   "cell_type": "code",
   "execution_count": 12,
   "metadata": {},
   "outputs": [
    {
     "data": {
      "text/plain": [
       "3×5 Matrix{Float64}:\n",
       "   33.2351    -29.6369  174.607   158.48   170.646\n",
       "    3.77671  -246.974   171.727  -161.228  169.866\n",
       " -247.752      25.0062   50.222  -106.722   67.2713"
      ]
     },
     "metadata": {},
     "output_type": "display_data"
    }
   ],
   "source": [
    "## parameter values\n",
    "θ = 10.0; β = 8/3; μ = 1/2\n",
    "tim = 20\n",
    "Δt = 0.001\n",
    "\n",
    "# initial values\n",
    "nr_of_initial_conditions = 5\n",
    "r = 250 # From the analysis of global stability, we know that all solvers converge to the origin when r <= 250\n",
    "initial_vals = Points_on_Sphere(nr_of_initial_conditions, r)"
   ]
  },
  {
   "cell_type": "code",
   "execution_count": null,
   "metadata": {},
   "outputs": [],
   "source": [
    "Plot_Energies_Preex(Rodas5(), initial_vals, tim, Δt, [θ,μ,β])\n",
    "savefig(\"Rodas5Energy_origin.png\")"
   ]
  },
  {
   "cell_type": "code",
   "execution_count": null,
   "metadata": {},
   "outputs": [],
   "source": [
    "#Euler Forward\n",
    "Plot_Energies(EulerForward, initial_vals, tim, Δt, [θ,μ,β])\n",
    "savefig(\"EulerForwardEnergy_origin.png\")"
   ]
  },
  {
   "cell_type": "code",
   "execution_count": null,
   "metadata": {},
   "outputs": [],
   "source": [
    "#Runge Kutta 4\n",
    "Plot_Energies(RK4, initial_vals, tim, Δt, [θ,μ,β])\n",
    "savefig(\"RK4Energy_origin.png\")"
   ]
  },
  {
   "cell_type": "code",
   "execution_count": null,
   "metadata": {},
   "outputs": [],
   "source": [
    "#DTM\n",
    "Plot_Energies(DTM, initial_vals, tim, Δt, [θ,μ,β])\n",
    "#savefig(\"DTMEnergy_origin.png\")"
   ]
  },
  {
   "cell_type": "code",
   "execution_count": null,
   "metadata": {},
   "outputs": [],
   "source": [
    "Plot_Energies(EulerCromer, initial_vals, tim, Δt, [θ,μ,β])\n",
    "#savefig(\"EulerCromerEnergy_origin.png\")"
   ]
  },
  {
   "attachments": {},
   "cell_type": "markdown",
   "metadata": {},
   "source": [
    "Analysis of the energy for when there exists two additional fixpoints to the origin"
   ]
  },
  {
   "cell_type": "code",
   "execution_count": 13,
   "metadata": {},
   "outputs": [
    {
     "data": {
      "text/plain": [
       "3-element Vector{Float64}:\n",
       " -7.745966692414834\n",
       " -7.745966692414834\n",
       " 22.5"
      ]
     },
     "metadata": {},
     "output_type": "display_data"
    }
   ],
   "source": [
    "## parameter values\n",
    "θ = 10.0; β = 8/3; μ = 23.5\n",
    "tim = 100\n",
    "Δt = 0.001\n",
    "\n",
    "# Fixed points\n",
    "x̄_fix1 = [sqrt(8*22.5/3);\n",
    "          sqrt(8*22.5/3);\n",
    "          22.5]\n",
    "\n",
    "x̄_fix2 = [-sqrt(8*22.5/3);\n",
    "          -sqrt(8*22.5/3);\n",
    "          22.5]"
   ]
  },
  {
   "cell_type": "code",
   "execution_count": 39,
   "metadata": {},
   "outputs": [
    {
     "ename": "ErrorException",
     "evalue": "Cannot convert Layout{Dict{Symbol, Any}} to series data for plotting",
     "output_type": "error",
     "traceback": [
      "Cannot convert Layout{Dict{Symbol, Any}} to series data for plotting\n",
      "\n",
      "Stacktrace:\n",
      "  [1] error(s::String)\n",
      "    @ Base ./error.jl:35\n",
      "  [2] _prepare_series_data(x::Layout{Dict{Symbol, Any}})\n",
      "    @ RecipesPipeline ~/.julia/packages/RecipesPipeline/XxUHt/src/series.jl:8\n",
      "  [3] _series_data_vector(x::Layout{Dict{Symbol, Any}}, plotattributes::Dict{Symbol, Any})\n",
      "    @ RecipesPipeline ~/.julia/packages/RecipesPipeline/XxUHt/src/series.jl:36\n",
      "  [4] macro expansion\n",
      "    @ ~/.julia/packages/RecipesPipeline/XxUHt/src/series.jl:129 [inlined]\n",
      "  [5] apply_recipe(plotattributes::AbstractDict{Symbol, Any}, #unused#::Type{RecipesPipeline.SliceIt}, x::Any, y::Any, z::Any)\n",
      "    @ RecipesPipeline ~/.julia/packages/RecipesBase/z10lo/src/RecipesBase.jl:300\n",
      "  [6] _process_userrecipes!(plt::Any, plotattributes::Any, args::Any)\n",
      "    @ RecipesPipeline ~/.julia/packages/RecipesPipeline/XxUHt/src/user_recipe.jl:38\n",
      "  [7] recipe_pipeline!(plt::Any, plotattributes::Any, args::Any)\n",
      "    @ RecipesPipeline ~/.julia/packages/RecipesPipeline/XxUHt/src/RecipesPipeline.jl:72\n",
      "  [8] _plot!(plt::Plots.Plot, plotattributes::Any, args::Any)\n",
      "    @ Plots ~/.julia/packages/Plots/nuwp4/src/plot.jl:223\n",
      "  [9] #plot#180\n",
      "    @ ~/.julia/packages/Plots/nuwp4/src/plot.jl:102 [inlined]\n",
      " [10] Plot_Energies_Fixp(ẋ::Function, initial_vals::Matrix{Float64}, time::Int64, Δt::Float64, p::Vector{Float64})\n",
      "    @ Main ~/01_Arbete/UTBILDNING/KEXET/Numerical-Solutions-and-Parameter-Sensitivity-of-the-Lorentz-System-Degree-Project-in-Technology/Numerical-Solvers/energy_conservation.ipynb:5\n",
      " [11] top-level scope\n",
      "    @ ~/01_Arbete/UTBILDNING/KEXET/Numerical-Solutions-and-Parameter-Sensitivity-of-the-Lorentz-System-Degree-Project-in-Technology/Numerical-Solvers/energy_conservation.ipynb:8"
     ]
    }
   ],
   "source": [
    "# Euler Forward\n",
    "# Basically didn't want to converge for Δt=0.001\n",
    "Δt = 0.0001\n",
    "nr_of_initial_conditions = 2\n",
    "r = 1/100 # the fix points are not globally stable but stable\n",
    "initial_vals = Points_on_Sphere(nr_of_initial_conditions, r)\n",
    "initial_vals1 = initial_vals .+ x̄_fix1\n",
    "Plot_Energies_Fixp(EulerForward, initial_vals1, 100, Δt, [θ,μ,β])\n",
    "#savefig(\"EulerForwardEnergy_fix1.png\")"
   ]
  },
  {
   "cell_type": "code",
   "execution_count": null,
   "metadata": {},
   "outputs": [],
   "source": [
    "nr_of_initial_conditions = 5\n",
    "Δt = 0.001\n",
    "\n",
    "r =2 # the fix points are not globally stable but stable\n",
    "initial_vals = Points_on_Sphere(nr_of_initial_conditions, r)\n",
    "initial_vals1 = initial_vals .+ x̄_fix1\n",
    "initial_vals2 = initial_vals .+ x̄_fix2"
   ]
  },
  {
   "cell_type": "code",
   "execution_count": null,
   "metadata": {},
   "outputs": [],
   "source": [
    "#Runge Kutta 4\n",
    "Plot_Energies(RK4, initial_vals1, time, Δt, [θ,μ,β])\n",
    "savefig(\"RK4_fixp.png\")"
   ]
  },
  {
   "cell_type": "code",
   "execution_count": null,
   "metadata": {},
   "outputs": [],
   "source": [
    "Plot_Energies_Preex(RadauIIA5(), initial_vals1, time, Δt, [θ,μ,β])\n",
    "savefig(\"RadauIIA5Energy_fix1.png\")"
   ]
  },
  {
   "cell_type": "code",
   "execution_count": null,
   "metadata": {},
   "outputs": [],
   "source": [
    "# DTM\n",
    "Plot_Energies(DTM, initial_vals1, time, Δt, [θ,μ,β])\n",
    "savefig(\"DTMEnergy_fix1.png\")"
   ]
  },
  {
   "cell_type": "code",
   "execution_count": null,
   "metadata": {},
   "outputs": [],
   "source": [
    "# Euler Cromer\n",
    "Plot_Energies(EulerCromer, initial_vals1, time, Δt, [θ,μ,β])\n",
    "savefig(\"EulerCromerEnergy_fix1.png\")"
   ]
  },
  {
   "attachments": {},
   "cell_type": "markdown",
   "metadata": {},
   "source": [
    "Analysis of the energy for the traditional chaotic Lorenz parameters $\\theta=10$, $\\beta = \\frac{8}{3}$, $\\mu = 28$"
   ]
  },
  {
   "cell_type": "code",
   "execution_count": null,
   "metadata": {},
   "outputs": [],
   "source": [
    "## parameter values\n",
    "θ = 10.0; β = 8/3; μ = 28\n",
    "time = 50\n",
    "Δt = 0.001\n",
    "\n",
    "# initial values\n",
    "nr_of_initial_conditions = 5\n",
    "r = 250 # From the analysis of global stability, we know that all solvers converge to the origin when r <= 250\n",
    "intitial_vals = Points_on_Sphere(nr_of_initial_conditions, r)"
   ]
  },
  {
   "cell_type": "code",
   "execution_count": null,
   "metadata": {},
   "outputs": [],
   "source": [
    "Plot_Energies_Preex(RadauIIA5(), initial_vals1, time, Δt, [θ,μ,β])\n",
    "savefig(\"RadauIIA5Energy_chaos.png\")"
   ]
  },
  {
   "cell_type": "code",
   "execution_count": null,
   "metadata": {},
   "outputs": [],
   "source": [
    "#Euler Forward\n",
    "Plot_Energies(EulerForward, initial_vals, time, Δt, [θ,μ,β])\n",
    "savefig(\"EulerForwardEnergy_chaos.png\")"
   ]
  },
  {
   "cell_type": "code",
   "execution_count": null,
   "metadata": {},
   "outputs": [],
   "source": [
    "#Runge Kutta 4\n",
    "Plot_Energies(RK4, initial_vals, time, Δt, [θ,μ,β])\n",
    "savefig(\"RK4Energy_chaos.png\")"
   ]
  },
  {
   "cell_type": "code",
   "execution_count": null,
   "metadata": {},
   "outputs": [],
   "source": [
    "#DTM\n",
    "Plot_Energies(DTM, initial_vals, time, Δt, [θ,μ,β])\n",
    "savefig(\"DTMEnergy_chaos.png\")"
   ]
  },
  {
   "cell_type": "code",
   "execution_count": null,
   "metadata": {},
   "outputs": [],
   "source": [
    "# Euler Cromer\n",
    "Plot_Energies(EulerCromer, initial_vals, time, Δt, [θ,μ,β])\n",
    "savefig(\"EulerCromerEnergy_chaos.png\")"
   ]
  }
 ],
 "metadata": {
  "kernelspec": {
   "display_name": "Julia 1.8.5",
   "language": "julia",
   "name": "julia-1.8"
  },
  "language_info": {
   "file_extension": ".jl",
   "mimetype": "application/julia",
   "name": "julia",
   "version": "1.8.5"
  },
  "orig_nbformat": 4
 },
 "nbformat": 4,
 "nbformat_minor": 2
}
