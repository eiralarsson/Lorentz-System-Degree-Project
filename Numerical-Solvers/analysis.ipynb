{
 "cells": [
  {
   "cell_type": "code",
   "execution_count": 25,
   "metadata": {},
   "outputs": [
    {
     "data": {
      "text/plain": [
       "LorentzSystem (generic function with 1 method)"
      ]
     },
     "metadata": {},
     "output_type": "display_data"
    }
   ],
   "source": [
    "include(\"euler_method.jl\")\n",
    "include(\"DTM.jl\")\n",
    "include(\"lorentz_system.jl\")\n"
   ]
  },
  {
   "cell_type": "code",
   "execution_count": 13,
   "metadata": {},
   "outputs": [
    {
     "data": {
      "text/plain": [
       "3-element Vector{Float64}:\n",
       " 1.0\n",
       " 1.0\n",
       " 1.0"
      ]
     },
     "metadata": {},
     "output_type": "display_data"
    }
   ],
   "source": [
    "## parameter values\n",
    "\n",
    "θ = 10.0\n",
    "β = 8/3\n",
    "μ = 28.0\n",
    "\n",
    "Δt = 0.1\n",
    "\n",
    "# initial values\n",
    "\n",
    "x₀ = 1.0\n",
    "y₀ = 1.0\n",
    "z₀ = 1.0\n",
    "x̄₀ = [x₀;\n",
    "      y₀;\n",
    "      z₀]"
   ]
  },
  {
   "cell_type": "code",
   "execution_count": 16,
   "metadata": {},
   "outputs": [
    {
     "data": {
      "text/plain": [
       "3-element Vector{Float64}:\n",
       "  0.0\n",
       " 26.0\n",
       " -1.6666666666666665"
      ]
     },
     "metadata": {},
     "output_type": "display_data"
    }
   ],
   "source": [
    "LorentzSystem([θ,μ,β],x̄₀)"
   ]
  },
  {
   "cell_type": "code",
   "execution_count": 26,
   "metadata": {},
   "outputs": [
    {
     "name": "stdout",
     "output_type": "stream",
     "text": [
      "[133903.93850251343, 4.54484765066867e6, -9.712490919133158e6]"
     ]
    }
   ],
   "source": [
    "x̄=x̄₀\n",
    "for i=1:10\n",
    "    x̄=EulerForward(LorentzSystem,[θ,μ,β],x̄,Δt)\n",
    "end\n",
    "print(x̄)"
   ]
  }
 ],
 "metadata": {
  "kernelspec": {
   "display_name": "Julia 1.8.5",
   "language": "julia",
   "name": "julia-1.8"
  },
  "language_info": {
   "file_extension": ".jl",
   "mimetype": "application/julia",
   "name": "julia",
   "version": "1.8.5"
  },
  "orig_nbformat": 4
 },
 "nbformat": 4,
 "nbformat_minor": 2
}
