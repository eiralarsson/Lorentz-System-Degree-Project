{
 "cells": [
  {
   "cell_type": "code",
   "execution_count": 21,
   "metadata": {},
   "outputs": [],
   "source": [
    "using Plots;\n",
    "using DifferentialEquations;\n",
    "using LinearAlgebra;\n",
    "using Colors;"
   ]
  },
  {
   "cell_type": "code",
   "execution_count": 32,
   "metadata": {},
   "outputs": [],
   "source": [
    "include(\"Solvers.jl\")\n",
    "include(\"PlotFunctions.jl\")\n",
    "include(\"UsefulFunctions.jl\")"
   ]
  },
  {
   "cell_type": "code",
   "execution_count": 33,
   "metadata": {},
   "outputs": [
    {
     "data": {
      "text/plain": [
       "PointsSolutionsJuliaSolver (generic function with 2 methods)"
      ]
     },
     "metadata": {},
     "output_type": "display_data"
    }
   ],
   "source": [
    "function PointsSolutions(p,Δt,N,Solver,M,points)\n",
    "    solutions = []\n",
    "    for i = 1:M\n",
    "        x = points[:,i] + displace\n",
    "        X = SolutionLorenz(p, Δt, x, N, Solver)\n",
    "        push!(solutions, X)\n",
    "    end\n",
    "    return solutions\n",
    "end\n",
    "\n",
    "function PointsSolutionsJuliaSolver(p,Δt,N,Solver,M,points)\n",
    "    solutions = []\n",
    "    for i = 1:M\n",
    "        x = points[:,i]\n",
    "        prob = ODEProblem(LorentzSystem,x,(0,Δt*N),[θ,μ,β])\n",
    "        X = solve(prob, Solver())\n",
    "        push!(solutions, X)\n",
    "    end\n",
    "    return solutions\n",
    "end"
   ]
  },
  {
   "cell_type": "code",
   "execution_count": 34,
   "metadata": {},
   "outputs": [
    {
     "data": {
      "text/plain": [
       "SolversFixPointCheck (generic function with 1 method)"
      ]
     },
     "metadata": {},
     "output_type": "display_data"
    }
   ],
   "source": [
    "function BuiltSolversFixPointCheck(param, Δt, x₀, N)\n",
    "    solvers = [RK4, EulerCromer, EulerForward, DTM]\n",
    "    for solver = solvers \n",
    "        X = SolutionLorenz(param, Δt, x₀, N, solver)\n",
    "        name = String(Symbol(solver))\n",
    "        #print(name, \": \",X[:,N+1], \"\\n\")\n",
    "\n",
    "        r = X[:,N+1] - x₀\n",
    "        distance = r' * r\n",
    "        print(name, \": \", distance, \" \\n\")\n",
    "    end\n",
    "end\n",
    "\n",
    "function SolversFixPointCheck(param, Δt, x₀, N)\n",
    "    prob = ODEProblem(LorentzSystem,x₀,(0,Δt*N), param)\n",
    "    solvers = [Vern9, Rodas5, RadauIIA5]\n",
    "    for solver = solvers\n",
    "        X = solve(prob, solver())\n",
    "        name = String(Symbol(solver))\n",
    "        r =X[:,length(X)]-x₀\n",
    "        distance = r' * r\n",
    "        print(name, \": \", distance, \" \\n\")\n",
    "    end\n",
    "end\n"
   ]
  },
  {
   "cell_type": "code",
   "execution_count": 31,
   "metadata": {},
   "outputs": [
    {
     "name": "stdout",
     "output_type": "stream",
     "text": [
      "fixpunkt =[0.0, 0.0, 0.0]"
     ]
    },
    {
     "name": "stdout",
     "output_type": "stream",
     "text": [
      "\n",
      "RK4: 0.0 \n"
     ]
    },
    {
     "name": "stdout",
     "output_type": "stream",
     "text": [
      "EulerCromer: 0.0 \n",
      "EulerForward: 0.0 \n"
     ]
    },
    {
     "name": "stdout",
     "output_type": "stream",
     "text": [
      "DTM: 0.0 \n",
      "Vern9: 0.0 \n",
      "Rodas5: 0.0 \n",
      "RadauIIA5: 0.0 \n",
      "fixpunkt =[7.745966692414834, 7.745966692414834, 22.5]\n"
     ]
    },
    {
     "name": "stdout",
     "output_type": "stream",
     "text": [
      "RK4: 0.0 \n",
      "EulerCromer: 0.0"
     ]
    },
    {
     "name": "stdout",
     "output_type": "stream",
     "text": [
      " \n",
      "EulerForward: 0.0"
     ]
    },
    {
     "name": "stdout",
     "output_type": "stream",
     "text": [
      " \n",
      "DTM: 0.0 \n"
     ]
    },
    {
     "name": "stdout",
     "output_type": "stream",
     "text": [
      "Vern9: 6.324568170698251e-10 \n",
      "Rodas5: 7.888609052210118e-31 \n",
      "RadauIIA5: 1.5777218104420236e-30 \n",
      "fixpunkt =[-7.745966692414834, -7.745966692414834, 22.5]\n"
     ]
    },
    {
     "name": "stdout",
     "output_type": "stream",
     "text": [
      "RK4: 0.0 \n",
      "EulerCromer: 0.0"
     ]
    },
    {
     "name": "stdout",
     "output_type": "stream",
     "text": [
      " \n",
      "EulerForward: 0.0 \n"
     ]
    },
    {
     "name": "stdout",
     "output_type": "stream",
     "text": [
      "DTM: 0.0 \n",
      "Vern9: 6.324568170698251e-10 \n",
      "Rodas5: 7.888609052210118e-31 \n",
      "RadauIIA5: 1.5777218104420236e-30 \n"
     ]
    }
   ],
   "source": [
    "θ, μ, β = 10, 23.5, 8/3\n",
    "param = [θ, μ, β]\n",
    "\n",
    "val = sqrt(β*(μ-1))\n",
    "a₀ = [0,0,0]\n",
    "a₁ = [val, val, μ-1]\n",
    "a₂ = [-val, -val, μ-1]\n",
    "\n",
    "Δt = 0.001\n",
    "N = 100000\n",
    "\n",
    "for a = [a₀, a₁, a₂]\n",
    "    print(\"fixpunkt =\", a, \"\\n\")\n",
    "    BuiltSolversFixPointCheck(param, Δt, a, N)\n",
    "    SolversFixPointCheck(param, Δt, a, N)\n",
    "\n",
    "end"
   ]
  },
  {
   "cell_type": "code",
   "execution_count": 35,
   "metadata": {},
   "outputs": [
    {
     "ename": "MethodError",
     "evalue": "MethodError: no method matching Points_on_Sphere(::Int64, ::Int64, ::Vector{Float64})\nClosest candidates are:\n  Points_on_Sphere(::Any, ::Any) at c:\\Users\\Vilmer\\Julia\\Lorentz-System-Degree-Project\\Numerical-Solvers\\fixed_point.ipynb:11",
     "output_type": "error",
     "traceback": [
      "MethodError: no method matching Points_on_Sphere(::Int64, ::Int64, ::Vector{Float64})\n",
      "Closest candidates are:\n",
      "  Points_on_Sphere(::Any, ::Any) at c:\\Users\\Vilmer\\Julia\\Lorentz-System-Degree-Project\\Numerical-Solvers\\fixed_point.ipynb:11\n",
      "\n",
      "Stacktrace:\n",
      " [1] top-level scope\n",
      "   @ c:\\Users\\Vilmer\\Julia\\Lorentz-System-Degree-Project\\Numerical-Solvers\\fixed_point.ipynb:15"
     ]
    }
   ],
   "source": [
    "θ, μ, β = 10, 10, 3\n",
    "p = [θ, μ, β]\n",
    "\n",
    "val = sqrt(β*(μ-1))\n",
    "a₀ = [0,0,0]\n",
    "a₁ = [val, val, μ-1]\n",
    "a₂ = [-val, -val, μ-1]\n",
    "\n",
    "Δt = 0.001\n",
    "N = 1000\n",
    "\n",
    "M = 1000\n",
    "r = 2\n",
    "center = a₁;\n",
    "points = Points_on_Sphere(M, r, center)\n",
    "\n"
   ]
  }
 ],
 "metadata": {
  "kernelspec": {
   "display_name": "Julia 1.8.5",
   "language": "julia",
   "name": "julia-1.8"
  },
  "language_info": {
   "file_extension": ".jl",
   "mimetype": "application/julia",
   "name": "julia",
   "version": "1.8.5"
  },
  "orig_nbformat": 4,
  "vscode": {
   "interpreter": {
    "hash": "570feb405e2e27c949193ac68f46852414290d515b0ba6e5d90d076ed2284471"
   }
  }
 },
 "nbformat": 4,
 "nbformat_minor": 2
}
