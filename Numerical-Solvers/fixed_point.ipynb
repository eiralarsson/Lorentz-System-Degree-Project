{
 "cells": [
  {
   "cell_type": "code",
   "execution_count": 2,
   "metadata": {},
   "outputs": [],
   "source": [
    "using Plots;\n",
    "using DifferentialEquations;\n",
    "using LinearAlgebra;\n",
    "using Colors;"
   ]
  },
  {
   "cell_type": "code",
   "execution_count": 3,
   "metadata": {},
   "outputs": [
    {
     "data": {
      "text/plain": [
       "EulerForward (generic function with 2 methods)"
      ]
     },
     "metadata": {},
     "output_type": "display_data"
    }
   ],
   "source": [
    "include(\"EulerCromer.jl\")\n",
    "include(\"RK4.jl\")\n",
    "include(\"lorentz_system.jl\")\n",
    "include(\"euler_method.jl\")"
   ]
  },
  {
   "cell_type": "code",
   "execution_count": 4,
   "metadata": {},
   "outputs": [
    {
     "data": {
      "text/plain": [
       "Points_on_Sphere (generic function with 1 method)"
      ]
     },
     "metadata": {},
     "output_type": "display_data"
    }
   ],
   "source": [
    "function SolutionLorenz(p, Δt, x₀, N, Solver)\n",
    "    X = zeros(3,N+1)\n",
    "    X[:,1] = x₀\n",
    "    x = x₀\n",
    "    for i = 2:N+1\n",
    "        X[:,i] = Solver(p, X[:,i-1], Δt)\n",
    "    end\n",
    "    return X\n",
    "end\n",
    "\n",
    "function Points_on_Sphere(nr_of_dots, r)\n",
    "    dots = zeros(3, nr_of_dots)\n",
    "    for i=1:nr_of_dots\n",
    "        dot = rand(-1.0:0.001:1.0,(1,3))\n",
    "        dot = r*dot./norm(dot)\n",
    "        dots[:,i] = dot\n",
    "    end\n",
    "    return dots\n",
    "end\n"
   ]
  },
  {
   "cell_type": "code",
   "execution_count": 5,
   "metadata": {},
   "outputs": [
    {
     "data": {
      "text/plain": [
       "PointsSolutionsJuliaSolver (generic function with 2 methods)"
      ]
     },
     "metadata": {},
     "output_type": "display_data"
    }
   ],
   "source": [
    "function PointsSolutions(p,Δt,N,Solver,points,displace=[0;0;0])\n",
    "    solutions = []\n",
    "    for i = 1:M\n",
    "        x = points[:,i] + displace\n",
    "        X = SolutionLorenz(p, Δt, x, N, Solver)\n",
    "        push!(solutions, X)\n",
    "    end\n",
    "    return solutions\n",
    "end\n",
    "\n",
    "function PointsSolutionsJuliaSolver(p,Δt,N,Solver,points,displace=[0;0;0])\n",
    "    solutions = []\n",
    "    for i = 1:M\n",
    "        x = points[:,i] + displace\n",
    "        prob = ODEProblem(LorentzSystem,x,(0,Δt*N),[θ,μ,β])\n",
    "        X = solve(prob, Solver)\n",
    "        push!(solutions, X)\n",
    "    end\n",
    "    return solutions\n",
    "end\n"
   ]
  },
  {
   "cell_type": "code",
   "execution_count": 6,
   "metadata": {},
   "outputs": [
    {
     "data": {
      "text/plain": [
       "PlotTrajectoriesInterpolated (generic function with 1 method)"
      ]
     },
     "metadata": {},
     "output_type": "display_data"
    }
   ],
   "source": [
    "\n",
    "function PlotNucleusPlot(solutions)\n",
    "    p = scatter(legend=false)\n",
    "    for X = solutions\n",
    "        scatter!(p, X[1,[1]], X[2,[1]], X[3,[1]], color=:blue)\n",
    "        scatter!(p, X[1,[N]], X[2,[N]], X[3,[N]], color=:red)\n",
    "        plot!(p, X[1,[1,N]], X[2,[1,N]], X[3,[1,N]], color=:black)\n",
    "    end\n",
    "    display(p)\n",
    "end\n",
    "\n",
    "function PlotTrajectories(solutions)\n",
    "    p = plot()#legend=false)\n",
    "    for X = solutions\n",
    "        plot!(p, X[1,:], X[2,:], X[3,:]) #, color=:blue) \n",
    "    end\n",
    "    display(p)\n",
    "end\n",
    "\n",
    "function PlotTrajectoriesInterpolated(solutions)\n",
    "    p = plot()#legend=false)\n",
    "    for X = solutions\n",
    "        plot!(p, X, vars=(1,2,3)) #, color=:blue) \n",
    "    end\n",
    "    display(p)\n",
    "end"
   ]
  },
  {
   "cell_type": "code",
   "execution_count": 7,
   "metadata": {},
   "outputs": [
    {
     "data": {
      "text/plain": [
       "3-element Vector{Float64}:\n",
       "  1.0\n",
       " -1.0\n",
       " 16.005555555555556"
      ]
     },
     "metadata": {},
     "output_type": "display_data"
    }
   ],
   "source": [
    "θ, μ, β = 10, 23.5, 8/3\n",
    "param = [θ, μ, β]\n",
    "\n",
    "val = sqrt(β*(μ-1))\n",
    "a₀ = [0,0,0]\n",
    "a₁ = [val, val, μ-1]\n",
    "a₂ = [-val, -val, μ-1]\n",
    "\n",
    "Δt = 0.001\n",
    "N = 100000\n",
    "x₀ = [1,-1,(2*(β*(μ-1)) + (μ+1)^2)/(2*(μ-1))]\n",
    "# x₀ = a₁\n",
    "# M = 100\n",
    "# r = 3"
   ]
  },
  {
   "cell_type": "code",
   "execution_count": 16,
   "metadata": {},
   "outputs": [],
   "source": [
    "prob = ODEProblem(LorentzSystem,x₀,(0,Δt*N),param);\n",
    "sol1 = solve(prob, RadauIIA5(), adaptive=false, dt=0.01);\n",
    "sol2 = SolutionLorenz(param, Δt, x₀, N, RK4);"
   ]
  },
  {
   "cell_type": "code",
   "execution_count": 17,
   "metadata": {},
   "outputs": [
    {
     "data": {
      "text/plain": [
       "10001"
      ]
     },
     "metadata": {},
     "output_type": "display_data"
    }
   ],
   "source": [
    "#plot(sol1, vars=(1,2,3))\n",
    "length(sol1)\n"
   ]
  },
  {
   "cell_type": "code",
   "execution_count": null,
   "metadata": {},
   "outputs": [],
   "source": [
    "x₀ = a₀"
   ]
  }
 ],
 "metadata": {
  "kernelspec": {
   "display_name": "Julia 1.8.5",
   "language": "julia",
   "name": "julia-1.8"
  },
  "language_info": {
   "file_extension": ".jl",
   "mimetype": "application/julia",
   "name": "julia",
   "version": "1.8.5"
  },
  "orig_nbformat": 4,
  "vscode": {
   "interpreter": {
    "hash": "570feb405e2e27c949193ac68f46852414290d515b0ba6e5d90d076ed2284471"
   }
  }
 },
 "nbformat": 4,
 "nbformat_minor": 2
}
