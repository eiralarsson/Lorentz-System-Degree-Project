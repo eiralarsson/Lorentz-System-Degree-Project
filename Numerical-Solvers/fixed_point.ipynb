{
 "cells": [
  {
   "cell_type": "code",
<<<<<<< HEAD
   "execution_count": null,
   "metadata": {},
   "outputs": [],
   "source": []
=======
   "execution_count": 60,
   "metadata": {},
   "outputs": [],
   "source": [
    "using Plots;\n",
    "using DifferentialEquations;\n",
    "using LinearAlgebra;\n",
    "using Colors;"
   ]
  },
  {
   "cell_type": "code",
   "execution_count": 61,
   "metadata": {},
   "outputs": [
    {
     "data": {
      "text/plain": [
       "Correlation (generic function with 1 method)"
      ]
     },
     "metadata": {},
     "output_type": "display_data"
    }
   ],
   "source": [
    "include(\"Solvers.jl\")\n",
    "include(\"PlotFunctions.jl\")\n",
    "include(\"UsefulFunctions.jl\")"
   ]
  },
  {
   "cell_type": "code",
   "execution_count": 62,
   "metadata": {},
   "outputs": [
    {
     "data": {
      "text/plain": [
       "PointsSolutionsJuliaSolver (generic function with 2 methods)"
      ]
     },
     "metadata": {},
     "output_type": "display_data"
    }
   ],
   "source": [
    "function PointsSolutions(p,Δt,N,Solver,M,points)\n",
    "    solutions = []\n",
    "    for i = 1:M\n",
    "        x = points[:,i] + displace\n",
    "        X = SolutionLorenz(p, Δt, x, N, Solver)\n",
    "        push!(solutions, X)\n",
    "    end\n",
    "    return solutions\n",
    "end\n",
    "\n",
    "function PointsSolutionsJuliaSolver(p,Δt,N,Solver,M,points)\n",
    "    solutions = []\n",
    "    for i = 1:M\n",
    "        x = points[:,i]\n",
    "        prob = ODEProblem(LorentzSystem,x,(0,Δt*N),[θ,μ,β])\n",
    "        X = solve(prob, Solver())\n",
    "        push!(solutions, X)\n",
    "    end\n",
    "    return solutions\n",
    "end"
   ]
  },
  {
   "cell_type": "code",
   "execution_count": 72,
   "metadata": {},
   "outputs": [
    {
     "data": {
      "text/plain": [
       "SolversFixPointCheck (generic function with 1 method)"
      ]
     },
     "metadata": {},
     "output_type": "display_data"
    }
   ],
   "source": [
    "function BuiltSolversFixPointCheck(param, Δt, x₀, N)\n",
    "    solvers = [RK4, EulerCromer, EulerForward, DTM]\n",
    "    for solver = solvers \n",
    "        X = SolutionLorenz(param, Δt, N, x₀, solver)\n",
    "        name = String(Symbol(solver))\n",
    "        #print(name, \": \",X[:,N+1], \"\\n\")\n",
    "\n",
    "        r = X[:,N+1] - x₀\n",
    "        distance = r' * r\n",
    "        if distance > 0\n",
    "            print(name, \" failed: \", distance, \" \\n\")\n",
    "        end\n",
    "    end\n",
    "end\n",
    "\n",
    "function SolversFixPointCheck(param, Δt, x₀, N)\n",
    "    prob = ODEProblem(LorentzSystem,x₀,(0,Δt*N), param)\n",
    "    solvers = [Vern9, Rodas5, RadauIIA5]\n",
    "    for solver = solvers\n",
    "        X = solve(prob, solver())\n",
    "        name = String(Symbol(solver))\n",
    "        r =X[:,length(X)]-x₀\n",
    "        distance = r' * r\n",
    "        if distance > 0\n",
    "            print(name, \" failed: \", distance, \"\\n \")\n",
    "        end\n",
    "    end\n",
    "end\n"
   ]
  },
  {
   "cell_type": "code",
   "execution_count": 91,
   "metadata": {},
   "outputs": [
    {
     "data": {
      "text/plain": [
       "100000"
      ]
     },
     "metadata": {},
     "output_type": "display_data"
    }
   ],
   "source": [
    "θ, μ, β = 10, 4, 8/3\n",
    "param = [θ, μ, β]\n",
    "\n",
    "val = sqrt(β*(μ-1))\n",
    "a₀ = [0,0,0]\n",
    "a₁ = [val, val, μ-1]\n",
    "a₂ = [-val, -val, μ-1]\n",
    "\n",
    "Δt = 0.001\n",
    "N = 100000\n"
   ]
  },
  {
   "cell_type": "code",
   "execution_count": 92,
   "metadata": {},
   "outputs": [
    {
     "name": "stdout",
     "output_type": "stream",
     "text": [
      "fixpunkt =[0.0, 0.0, 0.0]\n"
     ]
    },
    {
     "name": "stdout",
     "output_type": "stream",
     "text": [
      "\n",
      "fixpunkt =[2.8284271247461903, 2.8284271247461903, 3.0]"
     ]
    },
    {
     "name": "stdout",
     "output_type": "stream",
     "text": [
      "\n",
      "Vern9 failed. Rodas5 failed. \n",
      "fixpunkt =[-2.8284271247461903, -2.8284271247461903, 3.0]\n"
     ]
    },
    {
     "name": "stdout",
     "output_type": "stream",
     "text": [
      "Vern9 failed. Rodas5 failed. \n"
     ]
    }
   ],
   "source": [
    "for a = [a₀, a₁, a₂]\n",
    "    print(\"fixpunkt =\", a, \"\\n\")\n",
    "    BuiltSolversFixPointCheck(param, Δt, a, N)\n",
    "    SolversFixPointCheck(param, Δt, a, N)\n",
    "    print(\"\\n\")\n",
    "end"
   ]
  },
  {
   "cell_type": "code",
   "execution_count": 87,
   "metadata": {},
   "outputs": [
    {
     "data": {
      "text/plain": [
       "2"
      ]
     },
     "metadata": {},
     "output_type": "display_data"
    }
   ],
   "source": [
    "maxμ = θ*(θ+β+3)/(θ-β-1)\n",
    "minμ = 2"
   ]
  },
  {
   "cell_type": "code",
   "execution_count": 90,
   "metadata": {},
   "outputs": [
    {
     "name": "stdout",
     "output_type": "stream",
     "text": [
      "μ = 2\n",
      "fixpunkt =[0.0, 0.0, 0.0]\n"
     ]
    },
    {
     "name": "stdout",
     "output_type": "stream",
     "text": [
      "\n",
      "fixpunkt =[1.632993161855452, 1.632993161855452, 1.0]\n"
     ]
    },
    {
     "name": "stdout",
     "output_type": "stream",
     "text": [
      "\n",
      "fixpunkt =[-1.632993161855452, -1.632993161855452, 1.0]\n"
     ]
    },
    {
     "name": "stdout",
     "output_type": "stream",
     "text": [
      "\n",
      "μ = 3\n",
      "fixpunkt =[0.0, 0.0, 0.0]\n"
     ]
    },
    {
     "name": "stdout",
     "output_type": "stream",
     "text": [
      "\n",
      "fixpunkt =[2.309401076758503, 2.309401076758503, 2.0]\n"
     ]
    },
    {
     "name": "stdout",
     "output_type": "stream",
     "text": [
      "RK4 failed. EulerCromer failed. EulerForward"
     ]
    },
    {
     "name": "stdout",
     "output_type": "stream",
     "text": [
      " failed. DTM failed. Vern9 failed. Rodas5 failed. RadauIIA5 failed. \n",
      "fixpunkt =[-2.309401076758503, -2.309401076758503, 2.0]"
     ]
    },
    {
     "name": "stdout",
     "output_type": "stream",
     "text": [
      "\n",
      "RK4 failed. EulerCromer failed. "
     ]
    },
    {
     "name": "stdout",
     "output_type": "stream",
     "text": [
      "EulerForward"
     ]
    },
    {
     "name": "stdout",
     "output_type": "stream",
     "text": [
      " failed. DTM failed. Vern9 failed. Rodas5 failed. RadauIIA5 failed. \n",
      "μ = 4\n",
      "fixpunkt =[0.0, 0.0, 0.0]\n"
     ]
    },
    {
     "name": "stdout",
     "output_type": "stream",
     "text": [
      "\n",
      "fixpunkt =[2.8284271247461903, 2.8284271247461903, 3.0]\n"
     ]
    },
    {
     "name": "stdout",
     "output_type": "stream",
     "text": [
      "RK4 failed. EulerCromer failed. "
     ]
    },
    {
     "name": "stdout",
     "output_type": "stream",
     "text": [
      "EulerForward failed. "
     ]
    },
    {
     "name": "stdout",
     "output_type": "stream",
     "text": [
      "DTM failed. Vern9 failed. Rodas5 failed. RadauIIA5 failed. \n",
      "fixpunkt =[-2.8284271247461903, -2.8284271247461903, 3.0]\n"
     ]
    },
    {
     "name": "stdout",
     "output_type": "stream",
     "text": [
      "RK4 failed. EulerCromer failed. "
     ]
    },
    {
     "name": "stdout",
     "output_type": "stream",
     "text": [
      "EulerForward failed. DTM failed. Vern9 failed. "
     ]
    },
    {
     "name": "stdout",
     "output_type": "stream",
     "text": [
      "Rodas5 failed. RadauIIA5 failed. \n"
     ]
    }
   ],
   "source": [
    "for μ = 2:4\n",
    "    p = [θ, μ, β]\n",
    "    val = sqrt(β*(μ-1))\n",
    "    a₀ = [0,0,0]\n",
    "    a₁ = [val, val, μ-1]\n",
    "    a₂ = [-val, -val, μ-1]\n",
    "    print(\"μ = \", μ, \"\\n\")\n",
    "    for a = [a₀, a₁, a₂]\n",
    "        print(\"fixpunkt =\", a, \"\\n\")\n",
    "        BuiltSolversFixPointCheck(param, Δt, a, N)\n",
    "        SolversFixPointCheck(param, Δt, a, N)\n",
    "        print(\"\\n\")\n",
    "    end    \n",
    "end"
   ]
>>>>>>> refs/remotes/origin/main
  }
 ],
 "metadata": {
  "kernelspec": {
   "display_name": "Julia 1.8.5",
   "language": "julia",
   "name": "julia-1.8"
  },
  "language_info": {
   "file_extension": ".jl",
   "mimetype": "application/julia",
   "name": "julia",
   "version": "1.8.5"
  },
<<<<<<< HEAD
  "orig_nbformat": 4
=======
  "orig_nbformat": 4,
  "vscode": {
   "interpreter": {
    "hash": "570feb405e2e27c949193ac68f46852414290d515b0ba6e5d90d076ed2284471"
   }
  }
>>>>>>> refs/remotes/origin/main
 },
 "nbformat": 4,
 "nbformat_minor": 2
}
