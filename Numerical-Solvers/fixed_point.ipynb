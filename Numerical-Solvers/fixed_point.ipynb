{
 "cells": [
  {
   "cell_type": "code",
   "execution_count": 3,
   "metadata": {},
   "outputs": [],
   "source": [
    "using Plots;\n",
    "using DifferentialEquations;\n",
    "using LinearAlgebra;"
   ]
  },
  {
   "cell_type": "code",
   "execution_count": 2,
   "metadata": {},
   "outputs": [
    {
     "data": {
      "text/plain": [
       "PointsOnSphere (generic function with 2 methods)"
      ]
     },
     "metadata": {},
     "output_type": "display_data"
    }
   ],
   "source": [
    "include(\"Solvers.jl\")\n",
    "include(\"PlotFunctions.jl\")\n",
    "include(\"UsefulFunctions.jl\")\n",
    "include(\"PointGenerators.jl\")"
   ]
  },
  {
   "cell_type": "code",
   "execution_count": 74,
   "metadata": {},
   "outputs": [
    {
     "data": {
      "text/plain": [
       "0.1"
      ]
     },
     "metadata": {},
     "output_type": "display_data"
    }
   ],
   "source": [
    "θ, β = 10, 8/3\n",
    "\n",
    "Δt = 0.1\n",
    "N = 500\n",
    "\n",
    "Δμ = 0.1"
   ]
  },
  {
   "cell_type": "code",
   "execution_count": 75,
   "metadata": {},
   "outputs": [
    {
     "data": {
      "text/plain": [
       "1.1"
      ]
     },
     "metadata": {},
     "output_type": "display_data"
    }
   ],
   "source": [
    "maxμ = θ*(θ+β+3)/(θ-β-1)\n",
    "minμ = 1 + Δμ"
   ]
  },
  {
   "cell_type": "code",
   "execution_count": 76,
   "metadata": {},
   "outputs": [
    {
     "name": "stdout",
     "output_type": "stream",
     "text": [
      "l=0i=711\n",
      "DTM failed 0 times. max=0 min=0 avg=0\n"
     ]
    },
    {
     "name": "stdout",
     "output_type": "stream",
     "text": [
      "l=0i=711\n",
      "RK4 failed 0 times. max=0 min=0 avg=0\n"
     ]
    },
    {
     "name": "stdout",
     "output_type": "stream",
     "text": [
      "l=0i=711\n",
      "EulerForward failed 0 times. max=0 min=0 avg=0\n"
     ]
    },
    {
     "name": "stdout",
     "output_type": "stream",
     "text": [
      "l=0i=711\n",
      "EulerCromer failed 0 times. max=0 min=0 avg=0\n"
     ]
    },
    {
     "name": "stdout",
     "output_type": "stream",
     "text": [
      "l=0i=711\n",
      "RadauIIA5 failed 0 times. max=0 min=0 avg=0"
     ]
    },
    {
     "name": "stdout",
     "output_type": "stream",
     "text": [
      "\n",
      "l=0i=711\n",
      "Rodas5 failed 0 times. max=0 min=0 avg=0\n"
     ]
    }
   ],
   "source": [
    "for solver = [DTM RK4 EulerForward EulerCromer RadauIIA5 Rodas5]\n",
    "    i = 0\n",
    "    j = 0\n",
    "    vec = []\n",
    "    for μ = minμ:Δμ:maxμ\n",
    "        i = i + 1\n",
    "        p = [θ, μ, β]\n",
    "        val = sqrt(β*(μ-1))\n",
    "        fixpoints = [[0, 0, 0], [val, val, μ-1], [-val, -val, μ-1]]\n",
    "        M = PointsSolutions(p,Δt,N,fixpoints,solver, 100)\n",
    "        for k = 1:3\n",
    "            \n",
    "            if M[k][:,end] != fixpoints[k]\n",
    "                j = j+ 1\n",
    "                nor = norm(M[k][:,end]-fixpoints[k])\n",
    "                push!(vec, nor)\n",
    "            end\n",
    "        end\n",
    "        \n",
    "    end\n",
    "    l = length(vec)\n",
    "    print(\"l=\", l, \" i=\", i, \"\\n\")\n",
    "    if l > 0\n",
    "        print(solver, \" failed \", j, \" times.\", \" max=\", maximum(vec), \" min=\", minimum(vec), \" avg=\", sum(vec)/length(vec), \"\\n\")\n",
    "    else\n",
    "        print(solver, \" failed \", j, \" times.\", \" max=\", 0, \" min=\", 0, \" avg=\", 0, \"\\n\")\n",
    "    end\n",
    "end"
   ]
  }
 ],
 "metadata": {
  "kernelspec": {
   "display_name": "Julia 1.8.5",
   "language": "julia",
   "name": "julia-1.8"
  },
  "language_info": {
   "file_extension": ".jl",
   "mimetype": "application/julia",
   "name": "julia",
   "version": "1.8.5"
  },
  "orig_nbformat": 4,
  "vscode": {
   "interpreter": {
    "hash": "570feb405e2e27c949193ac68f46852414290d515b0ba6e5d90d076ed2284471"
   }
  }
 },
 "nbformat": 4,
 "nbformat_minor": 2
}
