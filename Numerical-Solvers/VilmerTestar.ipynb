{
 "cells": [
  {
   "cell_type": "code",
   "execution_count": 1,
   "metadata": {},
   "outputs": [],
   "source": [
    "using DifferentialEquations\n",
    "using Plots"
   ]
  },
  {
   "cell_type": "code",
   "execution_count": 24,
   "metadata": {},
   "outputs": [
    {
     "data": {
      "text/plain": [
       "PlotTrajectoriesInterpolated (generic function with 1 method)"
      ]
     },
     "metadata": {},
     "output_type": "display_data"
    }
   ],
   "source": [
    "include(\"UsefulFunctions.jl\")\n",
    "include(\"Solvers.jl\")\n",
    "include(\"PlotFunctions.jl\")"
   ]
  },
  {
   "cell_type": "code",
   "execution_count": 25,
   "metadata": {},
   "outputs": [
    {
     "data": {
      "text/plain": [
       "10000"
      ]
     },
     "metadata": {},
     "output_type": "display_data"
    }
   ],
   "source": [
    "θ, μ, β = 10, 23.5, 8/3\n",
    "p = [θ, μ, β]\n",
    "Δt = 0.001\n",
    "N = 10000"
   ]
  },
  {
   "cell_type": "code",
   "execution_count": 26,
   "metadata": {},
   "outputs": [
    {
     "data": {
      "text/plain": [
       "1-element Vector{Matrix{Float64}}:\n",
       " [-1.9579356871346802; 15.061043747189848; 13.01274179757203;;]"
      ]
     },
     "metadata": {},
     "output_type": "display_data"
    }
   ],
   "source": [
    "M = 1\n",
    "r = 20\n",
    "points = Points_on_Sphere(M,r)"
   ]
  },
  {
   "cell_type": "code",
   "execution_count": 22,
   "metadata": {},
   "outputs": [
    {
     "ename": "BoundsError",
     "evalue": "BoundsError: attempt to access 1-element Vector{Any} at index [2, 1:1]",
     "output_type": "error",
     "traceback": [
      "BoundsError: attempt to access 1-element Vector{Any} at index [2, 1:1]\n",
      "\n",
      "Stacktrace:\n",
      " [1] throw_boundserror(A::Vector{Any}, I::Tuple{Int64, Base.Slice{Base.OneTo{Int64}}})\n",
      "   @ Base .\\abstractarray.jl:703\n",
      " [2] checkbounds\n",
      "   @ .\\abstractarray.jl:668 [inlined]\n",
      " [3] _getindex\n",
      "   @ .\\multidimensional.jl:874 [inlined]\n",
      " [4] getindex\n",
      "   @ .\\abstractarray.jl:1241 [inlined]\n",
      " [5] PlotTrajectories(solutions::Vector{Vector{Any}})\n",
      "   @ Main c:\\Users\\Vilmer\\Julia\\Lorentz-System-Degree-Project\\Numerical-Solvers\\PlotFunctions.jl:14\n",
      " [6] top-level scope\n",
      "   @ c:\\Users\\Vilmer\\Julia\\Lorentz-System-Degree-Project\\Numerical-Solvers\\VilmerTestar.ipynb:2"
     ]
    }
   ],
   "source": [
    "X = PointsSolutions(p,Δt,N, RK4, points)\n",
    "PlotTrajectories(X)"
   ]
  }
 ],
 "metadata": {
  "kernelspec": {
   "display_name": "Julia 1.8.5",
   "language": "julia",
   "name": "julia-1.8"
  },
  "language_info": {
   "file_extension": ".jl",
   "mimetype": "application/julia",
   "name": "julia",
   "version": "1.8.5"
  },
  "orig_nbformat": 4
 },
 "nbformat": 4,
 "nbformat_minor": 2
}
