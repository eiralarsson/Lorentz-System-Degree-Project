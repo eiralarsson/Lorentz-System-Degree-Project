{
 "cells": [
  {
   "attachments": {},
   "cell_type": "markdown",
   "metadata": {},
   "source": [
    "Analysis wheter or not the numerical solvers will converge toward the origin when $\\mu<1$ \n",
    "Vilmer du borde kunna bara klicka \"run all\""
   ]
  },
  {
   "cell_type": "code",
   "execution_count": 11,
   "metadata": {},
   "outputs": [],
   "source": [
    "using Plots\n",
    "using LinearAlgebra\n",
    "using DifferentialEquations\n",
    "using Random"
   ]
  },
  {
   "cell_type": "code",
   "execution_count": 12,
   "metadata": {},
   "outputs": [
    {
     "data": {
      "text/plain": [
       "RK4 (generic function with 2 methods)"
      ]
     },
     "metadata": {},
     "output_type": "display_data"
    }
   ],
   "source": [
    "include(\"Solvers.jl\")"
   ]
  },
  {
   "cell_type": "code",
   "execution_count": 13,
   "metadata": {},
   "outputs": [
    {
     "data": {
      "text/plain": [
       "1×5 Matrix{Int64}:\n",
       " 100  250  500  750  1000"
      ]
     },
     "metadata": {},
     "output_type": "display_data"
    }
   ],
   "source": [
    "## parameter values\n",
    "θ = 10.0; β = 8/3; μ = 1/2 # μ<1\n",
    "tim = 1000\n",
    "Δt = 0.001\n",
    "r_vals = [100 250 500 750 1000]"
   ]
  },
  {
   "cell_type": "code",
   "execution_count": 14,
   "metadata": {},
   "outputs": [
    {
     "data": {
      "text/plain": [
       "Points_on_Sphere (generic function with 1 method)"
      ]
     },
     "metadata": {},
     "output_type": "display_data"
    }
   ],
   "source": [
    "# Creates nr_of_dots initial conditions on a sphere with radius r\n",
    "\n",
    "function Points_on_Sphere(nr_of_dots, r)\n",
    "    dots = zeros(3, nr_of_dots)\n",
    "    for i=1:nr_of_dots\n",
    "        dot = rand(-1.0:0.001:1.0,(1,3))\n",
    "        dot = r*dot./norm(dot)\n",
    "        dots[:,i] = dot\n",
    "    end\n",
    "    return dots\n",
    "end"
   ]
  },
  {
   "cell_type": "code",
   "execution_count": 15,
   "metadata": {},
   "outputs": [
    {
     "ename": "ErrorException",
     "evalue": "syntax: invalid character literal",
     "output_type": "error",
     "traceback": [
      "syntax: invalid character literal\n",
      "\n",
      "Stacktrace:\n",
      " [1] top-level scope\n",
      "   @ ~/01_Arbete/UTBILDNING/KEXET/Numerical-Solutions-and-Parameter-Sensitivity-of-the-Lorentz-System-Degree-Project-in-Technology/Numerical-Solvers/globally_stable_origin.ipynb:22"
     ]
    }
   ],
   "source": [
    "# Percentage of converging dots\n",
    "'\n",
    "function Percentage_of_Convergence(r_vals, θ, μ, β, nr_of_dots, ẋ::Function, Δt::Float64)\n",
    "\n",
    "    for r in r_vals\n",
    "\n",
    "        dots = Points_on_Sphere(nr_of_dots, r)\n",
    "\n",
    "        conv = zeros(nr_of_dots)\n",
    "        tol = 0.1\n",
    "        for i=1:nr_of_dots\n",
    "            x̄=dots[:,i]\n",
    "            while norm(x̄) > tol && norm(x̄) < 1000*r\n",
    "                x̄=ẋ([θ,μ,β],x̄,Δt)\n",
    "            end\n",
    "            if norm(x̄) <= tol\n",
    "                conv[i] = 1\n",
    "            else \n",
    "                conv[i] = 0\n",
    "            end\n",
    "        end\n",
    "        print(\" & \", sum(conv)/nr_of_dots)\n",
    "    end\n",
    "end\n",
    "\n",
    "'"
   ]
  },
  {
   "cell_type": "code",
   "execution_count": 16,
   "metadata": {},
   "outputs": [
    {
     "data": {
      "text/plain": [
       "Path (generic function with 1 method)"
      ]
     },
     "metadata": {},
     "output_type": "display_data"
    }
   ],
   "source": [
    "# Finds path for starting position x̄₀\n",
    "function Path(ẋ::Function, Δt, tim, x̄₀, p)\n",
    "    tsteps = Int(tim/Δt)\n",
    "    x̄=x̄₀\n",
    "    X = zeros(3,tsteps)\n",
    "    for i=1:tsteps\n",
    "        x̄= ẋ(p,x̄,Δt)\n",
    "        X[:,i] = x̄\n",
    "    end\n",
    "    return X\n",
    "end"
   ]
  },
  {
   "cell_type": "code",
   "execution_count": 17,
   "metadata": {},
   "outputs": [
    {
     "ename": "ErrorException",
     "evalue": "syntax: character literal contains multiple characters",
     "output_type": "error",
     "traceback": [
      "syntax: character literal contains multiple characters\n",
      "\n",
      "Stacktrace:\n",
      " [1] top-level scope\n",
      "   @ ~/01_Arbete/UTBILDNING/KEXET/Numerical-Solutions-and-Parameter-Sensitivity-of-the-Lorentz-System-Degree-Project-in-Technology/Numerical-Solvers/globally_stable_origin.ipynb:23"
     ]
    }
   ],
   "source": [
    "'\n",
    "function Plot_Converging_Points(ẋ::Function, Δt, r, tim, p)\n",
    "    nr_of_dots = 10\n",
    "    dots = Points_on_Sphere(nr_of_dots, r)\n",
    "    X_all_paths = zeros(nr_of_dots,3,Int(tim/Δt))\n",
    "    for i=1:nr_of_dots\n",
    "        x̄₀ = dots[:,i]\n",
    "        X_all_paths[i,:,:] = Path(ẋ, Δt, tim, x̄₀, p)\n",
    "    end\n",
    "\n",
    "    plot(X_all_paths[1,1,:],X_all_paths[1,2,:],X_all_paths[1,3,:],legend=:bottomright)\n",
    "    plot!(X_all_paths[2,1,:],X_all_paths[2,2,:],X_all_paths[2,3,:],legend=:bottomright)\n",
    "    plot!(X_all_paths[3,1,:],X_all_paths[3,2,:],X_all_paths[3,3,:],legend=:bottomright)\n",
    "    plot!(X_all_paths[4,1,:],X_all_paths[4,2,:],X_all_paths[4,3,:],legend=:bottomright)\n",
    "    plot!(X_all_paths[5,1,:],X_all_paths[5,2,:],X_all_paths[5,3,:],legend=:bottomright)\n",
    "    plot!(X_all_paths[6,1,:],X_all_paths[6,2,:],X_all_paths[6,3,:],legend=:bottomright)\n",
    "    plot!(X_all_paths[7,1,:],X_all_paths[7,2,:],X_all_paths[7,3,:],legend=:bottomright)\n",
    "    plot!(X_all_paths[8,1,:],X_all_paths[8,2,:],X_all_paths[8,3,:],legend=:bottomright)\n",
    "    plot!(X_all_paths[9,1,:],X_all_paths[9,2,:],X_all_paths[9,3,:],legend=:bottomright)\n",
    "    plot!(X_all_paths[10,1,:],X_all_paths[10,2,:],X_all_paths[10,3,:],legend=:bottomright)\n",
    "    \n",
    "end\n",
    "'"
   ]
  },
  {
   "cell_type": "code",
   "execution_count": 18,
   "metadata": {},
   "outputs": [
    {
     "data": {
      "text/plain": [
       "Percentage_of_Convergence_Preex (generic function with 1 method)"
      ]
     },
     "metadata": {},
     "output_type": "display_data"
    }
   ],
   "source": [
    "# Percentage of converging dots for preexisting solvers\n",
    "\n",
    "function Percentage_of_Convergence_Preex(r_vals, θ, μ, β, nr_of_dots, ẋ, Δt::Float64)\n",
    "\n",
    "    for r in r_vals\n",
    "\n",
    "        dots = Points_on_Sphere(nr_of_dots, r)\n",
    "\n",
    "        conv = zeros(nr_of_dots)\n",
    "        tol = 0.1\n",
    "        for i=1:nr_of_dots\n",
    "            x̄=dots[:,i]\n",
    "            prob = ODEProblem(LorentzSystem,x̄,(0.0,r),[θ,μ,β])\n",
    "            sol = solve(prob, ẋ, dt=Δt, adaptive=false)\n",
    "            if norm(sol[end]) <= tol\n",
    "                conv[i] = 1\n",
    "            else \n",
    "                conv[i] = 0\n",
    "            end\n",
    "        end\n",
    "        print(\" & \", sum(conv)/nr_of_dots)\n",
    "    end\n",
    "end"
   ]
  },
  {
   "attachments": {},
   "cell_type": "markdown",
   "metadata": {},
   "source": [
    "KÖR DEN HÄR KODEN HÄR NEDANFÖR!!!!!!"
   ]
  },
  {
   "cell_type": "code",
   "execution_count": 19,
   "metadata": {},
   "outputs": [
    {
     "name": "stdout",
     "output_type": "stream",
     "text": [
      " & 1.0"
     ]
    }
   ],
   "source": [
    "# VILMER KÖR DENHÄRA\n",
    "# Preexisting Julia Solver\n",
    "Δt = 0.01\n",
    "r_vals = [250 500 1000 2500 5000 7500 10000]\n",
    "#r_vals = [10 25000]\n",
    "nr_of_dots = 1000\n",
    "Percentage_of_Convergence_Preex(r_vals, θ, μ, β, nr_of_dots, Rodas5(), Δt)"
   ]
  },
  {
   "attachments": {},
   "cell_type": "markdown",
   "metadata": {},
   "source": [
    "KÖR KODEN HÄR OVANFÖR ^^^^^(bara den)"
   ]
  },
  {
   "cell_type": "code",
   "execution_count": 20,
   "metadata": {},
   "outputs": [
    {
     "data": {
      "text/plain": [
       "3-element Vector{Float64}:\n",
       " -7.745966692414834\n",
       " -7.745966692414834\n",
       " 22.5"
      ]
     },
     "metadata": {},
     "output_type": "display_data"
    }
   ],
   "source": [
    "## parameter values\n",
    "θ = 10.0; β = 8/3; μ = 23.5\n",
    "time = 100\n",
    "Δt = 0.001\n",
    "nr_of_initial_conditions=5\n",
    "\n",
    "# Fixed points\n",
    "x̄_fix1 = [sqrt(8*22.5/3);\n",
    "          sqrt(8*22.5/3);\n",
    "          22.5]\n",
    "\n",
    "x̄_fix2 = [-sqrt(8*22.5/3);\n",
    "          -sqrt(8*22.5/3);\n",
    "          22.5]\n",
    "\n"
   ]
  }
 ],
 "metadata": {
  "kernelspec": {
   "display_name": "Julia 1.8.5",
   "language": "julia",
   "name": "julia-1.8"
  },
  "language_info": {
   "file_extension": ".jl",
   "mimetype": "application/julia",
   "name": "julia",
   "version": "1.8.5"
  },
  "orig_nbformat": 4
 },
 "nbformat": 4,
 "nbformat_minor": 2
}
