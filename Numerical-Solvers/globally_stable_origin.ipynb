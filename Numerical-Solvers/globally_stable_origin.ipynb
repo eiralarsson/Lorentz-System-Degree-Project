{
 "cells": [
  {
   "attachments": {},
   "cell_type": "markdown",
   "metadata": {},
   "source": [
    "Analysis wheter or not the numerical solvers will converge toward the origin when $\\mu<1$ "
   ]
  },
  {
   "cell_type": "code",
   "execution_count": 2,
   "metadata": {},
   "outputs": [],
   "source": [
    "using Plots\n",
    "using LinearAlgebra\n",
    "using DifferentialEquations\n",
    "using Random"
   ]
  },
  {
   "cell_type": "code",
   "execution_count": 3,
   "metadata": {},
   "outputs": [
    {
     "data": {
      "text/plain": [
       "EulerCromer (generic function with 1 method)"
      ]
     },
     "metadata": {},
     "output_type": "display_data"
    }
   ],
   "source": [
    "include(\"euler_method.jl\")\n",
    "include(\"DTM.jl\")\n",
    "include(\"lorentz_system.jl\")\n",
    "include(\"RK4.jl\")\n",
    "include(\"EulerCromer.jl\")"
   ]
  },
  {
   "cell_type": "code",
   "execution_count": 11,
   "metadata": {},
   "outputs": [
    {
     "data": {
      "text/plain": [
       "1×5 Matrix{Int64}:\n",
       " 100  250  500  750  1000"
      ]
     },
     "metadata": {},
     "output_type": "display_data"
    }
   ],
   "source": [
    "## parameter values\n",
    "θ = 10.0; β = 8/3; μ = 1/2 # μ<1\n",
    "tim = 1000\n",
    "Δt = 0.001\n",
    "r_vals = [100 250 500 750 1000]"
   ]
  },
  {
   "cell_type": "code",
   "execution_count": 5,
   "metadata": {},
   "outputs": [
    {
     "data": {
      "text/plain": [
       "Points_on_Sphere (generic function with 1 method)"
      ]
     },
     "metadata": {},
     "output_type": "display_data"
    }
   ],
   "source": [
    "# Creates nr_of_dots initial conditions on a sphere with radius r\n",
    "\n",
    "function Points_on_Sphere(nr_of_dots, r)\n",
    "    dots = zeros(3, nr_of_dots)\n",
    "    for i=1:nr_of_dots\n",
    "        dot = rand(-1.0:0.001:1.0,(1,3))\n",
    "        dot = r*dot./norm(dot)\n",
    "        dots[:,i] = dot\n",
    "    end\n",
    "    return dots\n",
    "end"
   ]
  },
  {
   "cell_type": "code",
   "execution_count": 6,
   "metadata": {},
   "outputs": [
    {
     "data": {
      "text/plain": [
       "Percentage_of_Convergence (generic function with 1 method)"
      ]
     },
     "metadata": {},
     "output_type": "display_data"
    }
   ],
   "source": [
    "# Percentage of converging dots\n",
    "\n",
    "function Percentage_of_Convergence(r_vals, θ, μ, β, nr_of_dots, ẋ::Function, Δt::Float64)\n",
    "\n",
    "    for r in r_vals\n",
    "\n",
    "        dots = Points_on_Sphere(nr_of_dots, r)\n",
    "\n",
    "        conv = zeros(nr_of_dots)\n",
    "        tol = 0.1\n",
    "        for i=1:nr_of_dots\n",
    "            x̄=dots[:,i]\n",
    "            while norm(x̄) > tol && norm(x̄) < 1000*r\n",
    "                x̄=ẋ([θ,μ,β],x̄,Δt)\n",
    "            end\n",
    "            if norm(x̄) <= tol\n",
    "                conv[i] = 1\n",
    "            else \n",
    "                conv[i] = 0\n",
    "            end\n",
    "        end\n",
    "        print(\" & \", sum(conv)/nr_of_dots)\n",
    "    end\n",
    "end\n",
    "\n"
   ]
  },
  {
   "cell_type": "code",
   "execution_count": 7,
   "metadata": {},
   "outputs": [
    {
     "name": "stdout",
     "output_type": "stream",
     "text": [
      " \n",
      " Euler Forward \n",
      " \n"
     ]
    },
    {
     "name": "stdout",
     "output_type": "stream",
     "text": [
      " & 0.0734"
     ]
    },
    {
     "name": "stdout",
     "output_type": "stream",
     "text": [
      " & 0.0003"
     ]
    },
    {
     "name": "stdout",
     "output_type": "stream",
     "text": [
      " & 0.0 & 0.0"
     ]
    },
    {
     "name": "stdout",
     "output_type": "stream",
     "text": [
      " & 0.0 \n",
      " Runge-Kutta 4 \n",
      "\n"
     ]
    },
    {
     "ename": "InterruptException",
     "evalue": "InterruptException:",
     "output_type": "error",
     "traceback": [
      "InterruptException:\n",
      "\n",
      "Stacktrace:\n",
      "  [1] Array\n",
      "    @ ./boot.jl:459 [inlined]\n",
      "  [2] Array\n",
      "    @ ./boot.jl:468 [inlined]\n",
      "  [3] similar\n",
      "    @ ./abstractarray.jl:841 [inlined]\n",
      "  [4] similar\n",
      "    @ ./abstractarray.jl:840 [inlined]\n",
      "  [5] _array_for\n",
      "    @ ./array.jl:676 [inlined]\n",
      "  [6] _array_for\n",
      "    @ ./array.jl:679 [inlined]\n",
      "  [7] vcat\n",
      "    @ ./abstractarray.jl:1554 [inlined]\n",
      "  [8] LorentzSystem(x̄::Vector{Float64}, p::Vector{Float64}, t::Int64)\n",
      "    @ Main ~/01_Arbete/UTBILDNING/KEXET/Numerical-Solutions-and-Parameter-Sensitivity-of-the-Lorentz-System-Degree-Project-in-Technology/Numerical-Solvers/lorentz_system.jl:6\n",
      "  [9] LorentzSystem\n",
      "    @ ~/01_Arbete/UTBILDNING/KEXET/Numerical-Solutions-and-Parameter-Sensitivity-of-the-Lorentz-System-Degree-Project-in-Technology/Numerical-Solvers/lorentz_system.jl:4 [inlined]\n",
      " [10] RK4(p::Vector{Float64}, xₙ::Vector{Float64}, Δt::Float64, ẋ::typeof(LorentzSystem))\n",
      "    @ Main ~/01_Arbete/UTBILDNING/KEXET/Numerical-Solutions-and-Parameter-Sensitivity-of-the-Lorentz-System-Degree-Project-in-Technology/Numerical-Solvers/RK4.jl:8\n",
      " [11] RK4\n",
      "    @ ~/01_Arbete/UTBILDNING/KEXET/Numerical-Solutions-and-Parameter-Sensitivity-of-the-Lorentz-System-Degree-Project-in-Technology/Numerical-Solvers/RK4.jl:5 [inlined]\n",
      " [12] Percentage_of_Convergence(r_vals::Matrix{Int64}, θ::Float64, μ::Float64, β::Float64, nr_of_dots::Int64, ẋ::typeof(RK4), Δt::Float64)\n",
      "    @ Main ~/01_Arbete/UTBILDNING/KEXET/Numerical-Solutions-and-Parameter-Sensitivity-of-the-Lorentz-System-Degree-Project-in-Technology/Numerical-Solvers/globally_stable_origin.ipynb:14\n",
      " [13] eval\n",
      "    @ ./boot.jl:368 [inlined]\n",
      " [14] include_string(mapexpr::typeof(REPL.softscope), mod::Module, code::String, filename::String)\n",
      "    @ Base ./loading.jl:1428\n",
      " [15] #invokelatest#2\n",
      "    @ ./essentials.jl:729 [inlined]\n",
      " [16] invokelatest\n",
      "    @ ./essentials.jl:726 [inlined]\n",
      " [17] (::VSCodeServer.var\"#198#199\"{VSCodeServer.NotebookRunCellArguments, String})()\n",
      "    @ VSCodeServer ~/.vscode/extensions/julialang.language-julia-1.38.2/scripts/packages/VSCodeServer/src/serve_notebook.jl:19\n",
      " [18] withpath(f::VSCodeServer.var\"#198#199\"{VSCodeServer.NotebookRunCellArguments, String}, path::String)\n",
      "    @ VSCodeServer ~/.vscode/extensions/julialang.language-julia-1.38.2/scripts/packages/VSCodeServer/src/repl.jl:249\n",
      " [19] notebook_runcell_request(conn::VSCodeServer.JSONRPC.JSONRPCEndpoint{Base.PipeEndpoint, Base.PipeEndpoint}, params::VSCodeServer.NotebookRunCellArguments)\n",
      "    @ VSCodeServer ~/.vscode/extensions/julialang.language-julia-1.38.2/scripts/packages/VSCodeServer/src/serve_notebook.jl:13\n",
      " [20] dispatch_msg(x::VSCodeServer.JSONRPC.JSONRPCEndpoint{Base.PipeEndpoint, Base.PipeEndpoint}, dispatcher::VSCodeServer.JSONRPC.MsgDispatcher, msg::Dict{String, Any})\n",
      "    @ VSCodeServer.JSONRPC ~/.vscode/extensions/julialang.language-julia-1.38.2/scripts/packages/JSONRPC/src/typed.jl:67\n",
      " [21] serve_notebook(pipename::String, outputchannel_logger::Base.CoreLogging.SimpleLogger; crashreporting_pipename::String)\n",
      "    @ VSCodeServer ~/.vscode/extensions/julialang.language-julia-1.38.2/scripts/packages/VSCodeServer/src/serve_notebook.jl:139\n",
      " [22] top-level scope\n",
      "    @ ~/.vscode/extensions/julialang.language-julia-1.38.2/scripts/notebook/notebook.jl:32"
     ]
    }
   ],
   "source": [
    "r_vals = [100 250 500 750 1000]\n",
    "Δt = 0.01\n",
    "println(\" \\n Euler Forward \\n \")\n",
    "Percentage_of_Convergence(r_vals, θ, μ, β, 10000, EulerForward,Δt)\n",
    "println(\" \\n Runge-Kutta 4 \\n\")\n",
    "Percentage_of_Convergence(r_vals, θ, μ, β, 10000, RK4,Δt)\n",
    "println(\"\\n DTM \\n\")\n",
    "Percentage_of_Convergence(r_vals, θ, μ, β, 10000, DTM,Δt)"
   ]
  },
  {
   "cell_type": "code",
   "execution_count": null,
   "metadata": {},
   "outputs": [],
   "source": [
    "Δt = 0.001\n",
    "r_vals = [250 500 1000 2500 5000 7500 10000]\n",
    "println(\" \\n Euler Forward \\n \")\n",
    "Percentage_of_Convergence(r_vals, θ, μ, β, 10000, EulerForward,Δt)\n",
    "println(\" \\n Runge-Kutta 4 \\n\")\n",
    "Percentage_of_Convergence(r_vals, θ, μ, β, 10000, RK4,Δt)\n",
    "println(\"\\n DTM \\n\")\n",
    "Percentage_of_Convergence(r_vals, θ, μ, β, 10000, DTM,Δt)"
   ]
  },
  {
   "cell_type": "code",
   "execution_count": 2,
   "metadata": {},
   "outputs": [
    {
     "data": {
      "text/plain": [
       "Path (generic function with 1 method)"
      ]
     },
     "metadata": {},
     "output_type": "display_data"
    }
   ],
   "source": [
    "# Finds path for starting position x̄₀\n",
    "function Path(ẋ::Function, Δt, tim, x̄₀, p)\n",
    "    tsteps = Int(tim/Δt)\n",
    "    x̄=x̄₀\n",
    "    X = zeros(3,tsteps)\n",
    "    for i=1:tsteps\n",
    "        x̄= ẋ(p,x̄,Δt)\n",
    "        X[:,i] = x̄\n",
    "    end\n",
    "    return X\n",
    "end"
   ]
  },
  {
   "cell_type": "code",
   "execution_count": 1,
   "metadata": {},
   "outputs": [
    {
     "data": {
      "text/plain": [
       "Plot_Converging_Points (generic function with 1 method)"
      ]
     },
     "metadata": {},
     "output_type": "display_data"
    }
   ],
   "source": [
    "function Plot_Converging_Points(ẋ::Function, Δt, r, tim, p)\n",
    "    nr_of_dots = 10\n",
    "    dots = Points_on_Sphere(nr_of_dots, r)\n",
    "    X_all_paths = zeros(nr_of_dots,3,Int(tim/Δt))\n",
    "    for i=1:nr_of_dots\n",
    "        x̄₀ = dots[:,i]\n",
    "        X_all_paths[i,:,:] = Path(ẋ, Δt, tim, x̄₀, p)\n",
    "    end\n",
    "\n",
    "    plot(X_all_paths[1,1,:],X_all_paths[1,2,:],X_all_paths[1,3,:],legend=:bottomright)\n",
    "    plot!(X_all_paths[2,1,:],X_all_paths[2,2,:],X_all_paths[2,3,:],legend=:bottomright)\n",
    "    plot!(X_all_paths[3,1,:],X_all_paths[3,2,:],X_all_paths[3,3,:],legend=:bottomright)\n",
    "    plot!(X_all_paths[4,1,:],X_all_paths[4,2,:],X_all_paths[4,3,:],legend=:bottomright)\n",
    "    plot!(X_all_paths[5,1,:],X_all_paths[5,2,:],X_all_paths[5,3,:],legend=:bottomright)\n",
    "    plot!(X_all_paths[6,1,:],X_all_paths[6,2,:],X_all_paths[6,3,:],legend=:bottomright)\n",
    "    plot!(X_all_paths[7,1,:],X_all_paths[7,2,:],X_all_paths[7,3,:],legend=:bottomright)\n",
    "    plot!(X_all_paths[8,1,:],X_all_paths[8,2,:],X_all_paths[8,3,:],legend=:bottomright)\n",
    "    plot!(X_all_paths[9,1,:],X_all_paths[9,2,:],X_all_paths[9,3,:],legend=:bottomright)\n",
    "    plot!(X_all_paths[10,1,:],X_all_paths[10,2,:],X_all_paths[10,3,:],legend=:bottomright)\n",
    "    \n",
    "end"
   ]
  },
  {
   "cell_type": "code",
   "execution_count": null,
   "metadata": {},
   "outputs": [],
   "source": [
    "Δt = 0.01\n",
    "r = 100\n",
    "tim = 1000\n",
    "Plot_Converging_Points(RK4, Δt, r, tim, [θ,μ,β])"
   ]
  },
  {
   "cell_type": "code",
   "execution_count": null,
   "metadata": {},
   "outputs": [],
   "source": [
    "Plot_Converging_Points(DTM, Δt, r, tim, [θ,μ,β])"
   ]
  },
  {
   "cell_type": "code",
   "execution_count": 3,
   "metadata": {},
   "outputs": [
    {
     "data": {
      "text/plain": [
       "Percentage_of_Convergence_Preex (generic function with 1 method)"
      ]
     },
     "metadata": {},
     "output_type": "display_data"
    }
   ],
   "source": [
    "# Percentage of converging dots for preexisting solvers\n",
    "\n",
    "function Percentage_of_Convergence_Preex(r_vals, θ, μ, β, nr_of_dots, ẋ, Δt::Float64)\n",
    "\n",
    "    for r in r_vals\n",
    "\n",
    "        dots = Points_on_Sphere(nr_of_dots, r)\n",
    "\n",
    "        conv = zeros(nr_of_dots)\n",
    "        tol = 0.1\n",
    "        for i=1:nr_of_dots\n",
    "            x̄=dots[:,i]\n",
    "            prob = ODEProblem(LorentzSystem,x̄,(0.0,r),[θ,μ,β])\n",
    "            sol = solve(prob, ẋ, dt=Δt, adaptive=false)\n",
    "            if norm(sol[end]) <= tol\n",
    "                conv[i] = 1\n",
    "            else \n",
    "                conv[i] = 0\n",
    "            end\n",
    "        end\n",
    "        print(\" & \", sum(conv)/nr_of_dots)\n",
    "    end\n",
    "end"
   ]
  },
  {
   "cell_type": "code",
   "execution_count": 5,
   "metadata": {},
   "outputs": [
    {
     "ename": "UndefVarError",
     "evalue": "UndefVarError: Vern9 not defined",
     "output_type": "error",
     "traceback": [
      "UndefVarError: Vern9 not defined\n",
      "\n",
      "Stacktrace:\n",
      " [1] top-level scope\n",
      "   @ ~/01_Arbete/UTBILDNING/KEXET/Numerical-Solutions-and-Parameter-Sensitivity-of-the-Lorentz-System-Degree-Project-in-Technology/Numerical-Solvers/globally_stable_origin.ipynb:6"
     ]
    }
   ],
   "source": [
    "# Preexisting Julia Solver\n",
    "Δt = 0.01\n",
    "#r_vals = [250 500 1000 2500 5000 7500 10000]\n",
    "r_vals = [10000 25000]\n",
    "nr_of_dots = 1000\n",
    "Percentage_of_Convergence_Preex(r_vals, θ, μ, β, nr_of_dots, Vern9(), Δt)"
   ]
  },
  {
   "cell_type": "code",
   "execution_count": 8,
   "metadata": {},
   "outputs": [
    {
     "ename": "UndefVarError",
     "evalue": "UndefVarError: Rodas5 not defined",
     "output_type": "error",
     "traceback": [
      "UndefVarError: Rodas5 not defined\n",
      "\n",
      "Stacktrace:\n",
      " [1] top-level scope\n",
      "   @ ~/01_Arbete/UTBILDNING/KEXET/Numerical-Solutions-and-Parameter-Sensitivity-of-the-Lorentz-System-Degree-Project-in-Technology/Numerical-Solvers/globally_stable_origin.ipynb:6"
     ]
    }
   ],
   "source": [
    "# RadauIIA5\n",
    "# Rodas5 Rodas4P\n",
    "Δt = 0.01\n",
    "r_vals = [10000 25000]\n",
    "nr_of_dots = 1000\n",
    "Percentage_of_Convergence_Preex(r_vals, θ, μ, β, nr_of_dots, Rodas5(), Δt)"
   ]
  },
  {
   "cell_type": "code",
   "execution_count": 18,
   "metadata": {},
   "outputs": [
    {
     "data": {
      "text/plain": [
       "3-element Vector{Float64}:\n",
       " -7.745966692414834\n",
       " -7.745966692414834\n",
       " 22.5"
      ]
     },
     "metadata": {},
     "output_type": "display_data"
    }
   ],
   "source": [
    "## parameter values\n",
    "θ = 10.0; β = 8/3; μ = 23.5\n",
    "time = 100\n",
    "Δt = 0.001\n",
    "nr_of_initial_conditions=5\n",
    "\n",
    "# Fixed points\n",
    "x̄_fix1 = [sqrt(8*22.5/3);\n",
    "          sqrt(8*22.5/3);\n",
    "          22.5]\n",
    "\n",
    "x̄_fix2 = [-sqrt(8*22.5/3);\n",
    "          -sqrt(8*22.5/3);\n",
    "          22.5]\n",
    "\n"
   ]
  },
  {
   "cell_type": "code",
   "execution_count": 20,
   "metadata": {},
   "outputs": [
    {
     "data": {
      "text/plain": [
       "3×100000 Matrix{Float64}:\n",
       "  6.37084   6.39348   6.4158    6.43782  …   7.73931   7.73931   7.73931\n",
       "  8.651     8.6418    8.63264   8.62355      7.73943   7.73949   7.73955\n",
       " 23.5918   23.5841   23.5766   23.5692      22.4922   22.4922   22.4921"
      ]
     },
     "metadata": {},
     "output_type": "display_data"
    }
   ],
   "source": [
    "initial_vals = Points_on_Sphere(nr_of_initial_conditions, 2)\n",
    "initial_vals1 = initial_vals .+ x̄_fix1\n",
    "path = Path(RK4, Δt, time, initial_vals1[:,1], [θ,μ,β])"
   ]
  }
 ],
 "metadata": {
  "kernelspec": {
   "display_name": "Julia 1.8.5",
   "language": "julia",
   "name": "julia-1.8"
  },
  "language_info": {
   "file_extension": ".jl",
   "mimetype": "application/julia",
   "name": "julia",
   "version": "1.8.5"
  },
  "orig_nbformat": 4
 },
 "nbformat": 4,
 "nbformat_minor": 2
}
