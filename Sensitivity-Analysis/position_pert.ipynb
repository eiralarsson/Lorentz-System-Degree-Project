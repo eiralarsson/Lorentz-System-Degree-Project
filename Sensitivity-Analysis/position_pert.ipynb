{
 "cells": [
  {
   "cell_type": "code",
   "execution_count": 1,
   "metadata": {},
   "outputs": [
    {
     "data": {
      "text/plain": [
       "PointsOnSphere (generic function with 2 methods)"
      ]
     },
     "metadata": {},
     "output_type": "display_data"
    }
   ],
   "source": [
    "include(\"/Users/00eila01/01_Arbete/UTBILDNING/KEXET/Numerical-Solutions-and-Parameter-Sensitivity-of-the-Lorentz-System-Degree-Project-in-Technology/Numerical-Solvers/Solvers.jl\")\n",
    "include(\"/Users/00eila01/01_Arbete/UTBILDNING/KEXET/Numerical-Solutions-and-Parameter-Sensitivity-of-the-Lorentz-System-Degree-Project-in-Technology/Numerical-Solvers/UsefulFunctions.jl\")\n",
    "include(\"/Users/00eila01/01_Arbete/UTBILDNING/KEXET/Numerical-Solutions-and-Parameter-Sensitivity-of-the-Lorentz-System-Degree-Project-in-Technology/Numerical-Solvers/PointGenerators.jl\")"
   ]
  },
  {
   "cell_type": "code",
   "execution_count": 2,
   "metadata": {},
   "outputs": [],
   "source": [
    "using DifferentialEquations"
   ]
  },
  {
   "cell_type": "code",
   "execution_count": 93,
   "metadata": {},
   "outputs": [
    {
     "data": {
      "text/plain": [
       "CorrelationMatrix_Initpos (generic function with 1 method)"
      ]
     },
     "metadata": {},
     "output_type": "display_data"
    }
   ],
   "source": [
    "function CorrelationMatrix_Initpos(p,Δt,N,initial_points,Solver,center)\n",
    "    M = zeros(length(initial_points[1,:]), N+1)\n",
    "    for i = 1:length(initial_points[1,:])\n",
    "        x₀ = initial_points[:,i]\n",
    "        X = []\n",
    "        push!(X,LorenzSolutionFixedTimeStep(p, Δt, N, x₀, Solver))\n",
    "        push!(X,LorenzSolutionFixedTimeStep(p, Δt, N, center, Solver))\n",
    "        for j = 1:N+1\n",
    "            M[i,j] = Correlation(X[1][:,j], X[2][:,j])\n",
    "        end\n",
    "    end\n",
    "    return M\n",
    "end"
   ]
  },
  {
   "cell_type": "code",
   "execution_count": 52,
   "metadata": {},
   "outputs": [
    {
     "data": {
      "text/plain": [
       "0.0001"
      ]
     },
     "metadata": {},
     "output_type": "display_data"
    }
   ],
   "source": [
    "# initial conditions\n",
    "x₀ = [0.0; \n",
    "     1.0; \n",
    "     0.0]\n",
    "θ = 10; μ = 28; β = 8/3;\n",
    "p=[θ,μ,β]\n",
    "t = 5\n",
    "Δt = 10^(-4)"
   ]
  },
  {
   "cell_type": "code",
   "execution_count": 25,
   "metadata": {},
   "outputs": [
    {
     "data": {
      "text/plain": [
       "2-element Vector{BigFloat}:\n",
       " 1.0000000000000000364321973154977415791655470655996396089904010295867919921875e-10\n",
       " 1.0000000000000000622815914577798564188970686927859787829220294952392578125e-09"
      ]
     },
     "metadata": {},
     "output_type": "display_data"
    }
   ],
   "source": [
    "epsilon_vals = [10^(-10), 10^(-9)]"
   ]
  },
  {
   "cell_type": "code",
   "execution_count": 107,
   "metadata": {},
   "outputs": [
    {
     "data": {
      "text/plain": [
       "3×100 Matrix{Float64}:\n",
       " -0.343507   0.328751  -0.304342  …  -0.31134   0.0917318  -0.385113\n",
       "  0.880655   1.0324     0.964084      0.985921  0.510764    1.31838\n",
       " -0.343161  -0.37533   -0.395077      0.390985  0.0472558   0.0178818"
      ]
     },
     "metadata": {},
     "output_type": "display_data"
    }
   ],
   "source": [
    "initial_vals = PointsOnSphere(100, 0.5, x₀')"
   ]
  },
  {
   "cell_type": "code",
   "execution_count": 77,
   "metadata": {},
   "outputs": [
    {
     "data": {
      "text/plain": [
       "100"
      ]
     },
     "metadata": {},
     "output_type": "display_data"
    }
   ],
   "source": [
    "length(initial_vals[1,:])"
   ]
  },
  {
   "cell_type": "code",
   "execution_count": 108,
   "metadata": {},
   "outputs": [
    {
     "data": {
      "text/plain": [
       "100×31 Matrix{Float64}:\n",
       " 0.875717  0.875512  0.875308  0.875104  …  0.8703    0.870119  0.86994\n",
       " 0.900365  0.900664  0.900963  0.901262     0.908589  0.908876  0.909162\n",
       " 0.888201  0.888048  0.887896  0.887744     0.884229  0.8841    0.883971\n",
       " 0.866048  0.865806  0.865566  0.865327     0.859635  0.85942   0.859206\n",
       " 0.963711  0.96379   0.96387   0.96395      0.96597   0.966052  0.966133\n",
       " 0.86658   0.866397  0.866214  0.866033  …  0.861786  0.861628  0.861471\n",
       " 0.867929  0.867836  0.867744  0.867653     0.865671  0.865604  0.865538\n",
       " 0.926926  0.92691   0.926894  0.926879     0.926676  0.926675  0.926675\n",
       " 0.99177   0.991773  0.991775  0.991778     0.991861  0.991865  0.991869\n",
       " 0.873615  0.87407   0.874524  0.874977     0.885926  0.886349  0.886771\n",
       " ⋮                                       ⋱                      ⋮\n",
       " 0.867214  0.867511  0.867808  0.868105     0.875486  0.875779  0.876071\n",
       " 0.926595  0.926506  0.926418  0.926331     0.924417  0.924352  0.924287\n",
       " 0.887585  0.887949  0.888313  0.888675     0.897525  0.89787   0.898214\n",
       " 0.866389  0.867017  0.867642  0.868265     0.883105  0.883669  0.884232\n",
       " 0.866936  0.867454  0.86797   0.868484  …  0.880867  0.881343  0.881818\n",
       " 0.978978  0.979039  0.979101  0.979162     0.980707  0.980768  0.98083\n",
       " 0.891938  0.891813  0.891689  0.891565     0.888759  0.888658  0.888559\n",
       " 0.980197  0.980251  0.980305  0.980359     0.981728  0.981783  0.981838\n",
       " 0.959804  0.959789  0.959774  0.95976      0.959603  0.959605  0.959607"
      ]
     },
     "metadata": {},
     "output_type": "display_data"
    }
   ],
   "source": [
    "CorrelationMatrix_Initpos(p,Δt,30,initial_vals,RK4,x₀)"
   ]
  },
  {
   "cell_type": "code",
   "execution_count": 70,
   "metadata": {},
   "outputs": [
    {
     "data": {
      "text/plain": [
       "3×6 Matrix{Float64}:\n",
       "  4.09092e-11  0.000999451  0.00199781  0.00299507  0.00399124  0.00498633\n",
       "  1.0          0.999901     0.999806    0.999713    0.999622    0.999535\n",
       " -4.88208e-11  4.99251e-8   1.99743e-7  4.49251e-7  7.98294e-7  1.24672e-6"
      ]
     },
     "metadata": {},
     "output_type": "display_data"
    }
   ],
   "source": [
    "LorenzSolutionFixedTimeStep(p, Δt, 5, initial_vals[:,1], RK4)"
   ]
  }
 ],
 "metadata": {
  "kernelspec": {
   "display_name": "Julia 1.8.5",
   "language": "julia",
   "name": "julia-1.8"
  },
  "language_info": {
   "file_extension": ".jl",
   "mimetype": "application/julia",
   "name": "julia",
   "version": "1.8.5"
  },
  "orig_nbformat": 4
 },
 "nbformat": 4,
 "nbformat_minor": 2
}
