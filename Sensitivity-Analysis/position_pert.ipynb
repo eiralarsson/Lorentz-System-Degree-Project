{
 "cells": [
  {
   "cell_type": "code",
   "execution_count": 37,
   "metadata": {},
   "outputs": [
    {
     "data": {
      "text/plain": [
       "PlotPipPlot (generic function with 1 method)"
      ]
     },
     "metadata": {},
     "output_type": "display_data"
    }
   ],
   "source": [
    "include(\"/Users/00eila01/01_Arbete/UTBILDNING/KEXET/Numerical-Solutions-and-Parameter-Sensitivity-of-the-Lorentz-System-Degree-Project-in-Technology/Numerical-Solvers/Solvers.jl\")\n",
    "include(\"/Users/00eila01/01_Arbete/UTBILDNING/KEXET/Numerical-Solutions-and-Parameter-Sensitivity-of-the-Lorentz-System-Degree-Project-in-Technology/Numerical-Solvers/UsefulFunctions.jl\")\n",
    "include(\"/Users/00eila01/01_Arbete/UTBILDNING/KEXET/Numerical-Solutions-and-Parameter-Sensitivity-of-the-Lorentz-System-Degree-Project-in-Technology/Numerical-Solvers/PointGenerators.jl\")\n",
    "include(\"/Users/00eila01/01_Arbete/UTBILDNING/KEXET/Numerical-Solutions-and-Parameter-Sensitivity-of-the-Lorentz-System-Degree-Project-in-Technology/Numerical-Solvers/PlotFunctions.jl\")"
   ]
  },
  {
   "cell_type": "code",
   "execution_count": 40,
   "metadata": {},
   "outputs": [],
   "source": [
    "using DifferentialEquations\n",
    "using FileIO, JLD2"
   ]
  },
  {
   "cell_type": "code",
   "execution_count": 4,
   "metadata": {},
   "outputs": [
    {
     "data": {
      "text/plain": [
       "CorrelationMatrix_Initpos (generic function with 1 method)"
      ]
     },
     "metadata": {},
     "output_type": "display_data"
    }
   ],
   "source": [
    "function CorrelationMatrix_Initpos(p,Δt,N,initial_points,Solver,center)\n",
    "    M = zeros(length(initial_points[1,:]), N+1)\n",
    "    for i = 1:length(initial_points[1,:])\n",
    "        x₀ = initial_points[:,i]\n",
    "        X = []\n",
    "        push!(X,LorenzSolutionFixedTimeStep(p, Δt, N, x₀, Solver))\n",
    "        push!(X,LorenzSolutionFixedTimeStep(p, Δt, N, center, Solver))\n",
    "        for j = 1:N+1\n",
    "            M[i,j] = Correlation(X[1][:,j], X[2][:,j])\n",
    "        end\n",
    "    end\n",
    "    return M\n",
    "end"
   ]
  },
  {
   "cell_type": "code",
   "execution_count": 5,
   "metadata": {},
   "outputs": [
    {
     "data": {
      "text/plain": [
       "0.0001"
      ]
     },
     "metadata": {},
     "output_type": "display_data"
    }
   ],
   "source": [
    "# initial conditions\n",
    "x₀ = [0.0; \n",
    "     1.0; \n",
    "     0.0]\n",
    "θ = 10; μ = 28; β = 8/3;\n",
    "p=[θ,μ,β]\n",
    "t = 5\n",
    "Δt = 10^(-4)"
   ]
  },
  {
   "cell_type": "code",
   "execution_count": 20,
   "metadata": {},
   "outputs": [
    {
     "data": {
      "text/plain": [
       "11-element Vector{Float64}:\n",
       " 1.0e-10\n",
       " 1.0e-9\n",
       " 1.0e-8\n",
       " 1.0000000000000001e-7\n",
       " 1.0e-6\n",
       " 1.0e-5\n",
       " 0.0001\n",
       " 0.001\n",
       " 0.01\n",
       " 0.1\n",
       " 1.0"
      ]
     },
     "metadata": {},
     "output_type": "display_data"
    }
   ],
   "source": [
    "epsilon_vals = [10^(-10), 10^(-9), 10^(-8), 10^(-7), 10^(-6), 10^(-5), 0.0001, 0.001, 0.01, 0.1, 1]"
   ]
  },
  {
   "cell_type": "code",
   "execution_count": 24,
   "metadata": {},
   "outputs": [
    {
     "data": {
      "text/plain": [
       "3×100 Matrix{Float64}:\n",
       " -7.54563e-9  -3.68993e-8   6.26231e-8  …  -7.71432e-8  6.02763e-8\n",
       "  1.0          1.0          1.0             1.0         1.0\n",
       " -2.40644e-8   3.75993e-8  -6.75957e-8      4.41307e-8  5.71557e-8"
      ]
     },
     "metadata": {},
     "output_type": "display_data"
    }
   ],
   "source": [
    "initial_vals = PointsOnSphere(100, 10^(-7), x₀')"
   ]
  },
  {
   "cell_type": "code",
   "execution_count": 77,
   "metadata": {},
   "outputs": [
    {
     "data": {
      "text/plain": [
       "100"
      ]
     },
     "metadata": {},
     "output_type": "display_data"
    }
   ],
   "source": [
    "length(initial_vals[1,:])"
   ]
  },
  {
   "cell_type": "code",
   "execution_count": 25,
   "metadata": {},
   "outputs": [
    {
     "data": {
      "text/plain": [
       "100×400001 Matrix{Float64}:\n",
       " 1.0  1.0  1.0  1.0  1.0  1.0  1.0  1.0  1.0  …  0.976531  0.976592  0.976652\n",
       " 1.0  1.0  1.0  1.0  1.0  1.0  1.0  1.0  1.0     0.707728  0.707444  0.70716\n",
       " 1.0  1.0  1.0  1.0  1.0  1.0  1.0  1.0  1.0     0.831817  0.831871  0.831925\n",
       " 1.0  1.0  1.0  1.0  1.0  1.0  1.0  1.0  1.0     0.949001  0.94908   0.949158\n",
       " 1.0  1.0  1.0  1.0  1.0  1.0  1.0  1.0  1.0     0.633667  0.633294  0.632922\n",
       " 1.0  1.0  1.0  1.0  1.0  1.0  1.0  1.0  1.0  …  0.999094  0.999086  0.999078\n",
       " 1.0  1.0  1.0  1.0  1.0  1.0  1.0  1.0  1.0     0.621507  0.621437  0.621366\n",
       " 1.0  1.0  1.0  1.0  1.0  1.0  1.0  1.0  1.0     0.984199  0.984201  0.984203\n",
       " 1.0  1.0  1.0  1.0  1.0  1.0  1.0  1.0  1.0     0.983193  0.98319   0.983187\n",
       " 1.0  1.0  1.0  1.0  1.0  1.0  1.0  1.0  1.0     0.622713  0.622817  0.622921\n",
       " ⋮                        ⋮                   ⋱                      ⋮\n",
       " 1.0  1.0  1.0  1.0  1.0  1.0  1.0  1.0  1.0     0.742312  0.742103  0.741893\n",
       " 1.0  1.0  1.0  1.0  1.0  1.0  1.0  1.0  1.0     0.492265  0.491985  0.491705\n",
       " 1.0  1.0  1.0  1.0  1.0  1.0  1.0  1.0  1.0     0.983567  0.983599  0.983631\n",
       " 1.0  1.0  1.0  1.0  1.0  1.0  1.0  1.0  1.0     0.988983  0.988946  0.988909\n",
       " 1.0  1.0  1.0  1.0  1.0  1.0  1.0  1.0  1.0  …  0.877216  0.877204  0.877191\n",
       " 1.0  1.0  1.0  1.0  1.0  1.0  1.0  1.0  1.0     0.795624  0.795442  0.795259\n",
       " 1.0  1.0  1.0  1.0  1.0  1.0  1.0  1.0  1.0     0.883498  0.8837    0.883901\n",
       " 1.0  1.0  1.0  1.0  1.0  1.0  1.0  1.0  1.0     0.537745  0.537713  0.537681\n",
       " 1.0  1.0  1.0  1.0  1.0  1.0  1.0  1.0  1.0     0.522097  0.521641  0.521186"
      ]
     },
     "metadata": {},
     "output_type": "display_data"
    }
   ],
   "source": [
    "CorrelationMatrix_Initpos(p,Δt,Integer(40/Δt),initial_vals,RK4,x₀)"
   ]
  },
  {
   "cell_type": "code",
   "execution_count": 26,
   "metadata": {},
   "outputs": [
    {
     "data": {
      "text/plain": [
       "100"
      ]
     },
     "metadata": {},
     "output_type": "display_data"
    }
   ],
   "source": [
    "N=Integer(40/Δt)\n",
    "Mavg = zeros(length(epsilon_vals),N+1)\n",
    "l=100\n",
    "Random.seed!(3) #???"
   ]
  },
  {
   "cell_type": "code",
   "execution_count": 27,
   "metadata": {},
   "outputs": [
    {
     "name": "stdout",
     "output_type": "stream",
     "text": [
      "12"
     ]
    },
    {
     "name": "stdout",
     "output_type": "stream",
     "text": [
      "34"
     ]
    },
    {
     "name": "stdout",
     "output_type": "stream",
     "text": [
      "56"
     ]
    },
    {
     "name": "stdout",
     "output_type": "stream",
     "text": [
      "78"
     ]
    },
    {
     "name": "stdout",
     "output_type": "stream",
     "text": [
      "910"
     ]
    },
    {
     "name": "stdout",
     "output_type": "stream",
     "text": [
      "11"
     ]
    }
   ],
   "source": [
    "for k = 1:length(epsilon_vals)\n",
    "    print(k)\n",
    "    initial_vals=PointsOnSphere(l, epsilon_vals[k], x₀')\n",
    "    M = CorrelationMatrix_Initpos(p,Δt,N,initial_vals,RK4,x₀);\n",
    "    Mavg[k,:] = sum(M,dims=1)/l\n",
    "end"
   ]
  },
  {
   "cell_type": "code",
   "execution_count": 38,
   "metadata": {},
   "outputs": [
    {
     "data": {
      "text/plain": [
       "\"/Users/00eila01/01_Arbete/UTBILDNING/KEXET/Numerical-Solutions-and-Parameter-Sensitivity-of-the-Lorentz-System-Degree-Project-in-Technology/Sensitivity-Analysis/plots/perturbations_initialpos.png\""
      ]
     },
     "metadata": {},
     "output_type": "display_data"
    }
   ],
   "source": [
    "PlotPipPlot(Mavg,Δt,clim=(0.6,1),title=\"Perturbations of starting position (0,1,0)\")\n",
    "savefig(\"plots/perturbations_initialpos.png\")"
   ]
  },
  {
   "cell_type": "code",
   "execution_count": 41,
   "metadata": {},
   "outputs": [],
   "source": [
    "FileIO.save(raw\"perturbation_initialpos.jld2\",\"Mavg\",Mavg)"
   ]
  }
 ],
 "metadata": {
  "kernelspec": {
   "display_name": "Julia 1.8.5",
   "language": "julia",
   "name": "julia-1.8"
  },
  "language_info": {
   "file_extension": ".jl",
   "mimetype": "application/julia",
   "name": "julia",
   "version": "1.8.5"
  },
  "orig_nbformat": 4
 },
 "nbformat": 4,
 "nbformat_minor": 2
}
